{
 "cells": [
  {
   "cell_type": "markdown",
   "metadata": {},
   "source": [
    "# Fetal Health Classification \n",
    "### Author: Diane Tunnicliffe\n",
    "\n",
    "## Overview\n",
    "\"Reduction of child mortality is reflected in several of the United Nations' Sustainable Development Goals and is a key indicator of human progress.\n",
    "The UN expects that by 2030, countries end preventable deaths of newborns and children under 5 years of age, with all countries aiming to reduce under‑5 mortality to at least as low as 25 per 1,000 live births.\n",
    "\n",
    "Parallel to notion of child mortality is of course maternal mortality, which accounts for 295 000 deaths during and following pregnancy and childbirth (as of 2017). The vast majority of these deaths (94%) occurred in low-resource settings, and most could have been prevented.\n",
    "\n",
    "In light of what was mentioned above, Cardiotocograms (CTGs) are a simple and cost accessible option to assess fetal health, allowing healthcare professionals to take action in order to prevent child and maternal mortality. The equipment itself works by sending ultrasound pulses and reading its response, thus shedding light on fetal heart rate (FHR), fetal movements, uterine contractions and more.\"\n",
    "\n",
    "\n",
    "\n",
    "## Business Problem\n",
    "\n",
    "Preventative care. Pitch to doctors. To decrease the risk of preventable fetal and maternal mortality, I will be answering the question of how to predict fetal health outcomes based on CTG data. This information can be used by medical professionals, specifically in the field of obstetrics, to minimize the occurrence of fetal mortality. While this is arguably more of a health problem than a business problem, medical practices can benefit greatly from these findings by ensuring the best possible patient health.  \n",
    "\n",
    "\"The magnitude of fetal mortality is considerable: About 1 million fetal deaths occur at any gestational age in the United States each year, including almost 26,000 at 20 weeks of gestation or more; Even when limited to fetal deaths of 20 weeks of gestation or more, nearly as many fetal deaths as infant deaths occur in the United States each year; After decades of decline, the U.S. fetal mortality rate (fetal deaths of 20 weeks of gestation or more) did not decrease from 2003 to 2005; Fetal mortality rates are substantially higher for non-Hispanic black and American Indian or Alaska Native women than for non-Hispanic white women; Compared with the U.S. average, fetal mortality rates are higher for teenagers and for women aged 35 years and over, for twin and higher-order pregnancies, and for women with more than two previous pregnancies. Fetal mortality is a major, but often overlooked, public health problem. Fetal mortality refers to spontaneous intrauterine death at any time during pregnancy. \"\n",
    "\n",
    "### Hypotheses  \n",
    "\n",
    "Null hypothesis (H0): There is no relationship between automated CTG data and fetal health outcome.  \n",
    "Alternative hypothesis (Ha): There is a relationship between automated CTG data and fetal health outcome. "
   ]
  },
  {
   "cell_type": "markdown",
   "metadata": {},
   "source": [
    "## Data Understanding\n",
    "\"Reduction of child mortality is reflected in several of the United Nations' Sustainable Development Goals and is a key indicator of human progress. The UN expects that by 2030, countries end preventable deaths of newborns and children under 5 years of age, with all countries aiming to reduce under‑5 mortality to at least as low as 25 per 1,000 live births.\n",
    "\n",
    "Parallel to notion of child mortality is of course maternal mortality, which accounts for 295 000 deaths during and following pregnancy and childbirth (as of 2017). The vast majority of these deaths (94%) occurred in low-resource settings, and most could have been prevented.\n",
    "\n",
    "In light of what was mentioned above, Cardiotocograms (CTGs) are a simple and cost accessible option to assess fetal health, allowing healthcare professionals to take action in order to prevent child and maternal mortality. The equipment itself works by sending ultrasound pulses and reading its response, thus shedding light on fetal heart rate (FHR), fetal movements, uterine contractions and more.\"  \n",
    "\n",
    "The dataset used for this project can be found at https://www.kaggle.com/andrewmvd/fetal-health-classification. It contains 2,126 rows of 22 features extracted from Cardiotocogram (CTG) exams, which were then classified by three expert obstetritians into 3 classes:\n",
    "* Normal\n",
    "* Suspect \n",
    "* Pathological  \n",
    "\n",
    "\n",
    "Citation: Ayres de Campos et al. (2000) SisPorto 2.0 A Program for Automated Analysis of Cardiotocograms. J Matern Fetal Med 5:311-318. The original study can be found at https://onlinelibrary.wiley.com/doi/10.1002/1520-6661(200009/10)9:5%3C311::AID-MFM12%3E3.0.CO;2-9. \n",
    "\n"
   ]
  },
  {
   "cell_type": "code",
   "execution_count": 170,
   "metadata": {},
   "outputs": [],
   "source": [
    "# importing the packages we will be using for this project\n",
    "import pandas as pd\n",
    "# setting pandas display to avoid scientific notation in my dataframes\n",
    "pd.options.display.float_format = '{:.3f}'.format\n",
    "import numpy as np\n",
    "import matplotlib.pyplot as plt\n",
    "import seaborn as sns\n",
    "import pickle\n",
    "from sklearn.model_selection import train_test_split\n",
    "from sklearn.preprocessing import StandardScaler, RobustScaler\n",
    "from sklearn.preprocessing import LabelEncoder, OneHotEncoder, PolynomialFeatures, Binarizer\n",
    "from sklearn.decomposition import PCA\n",
    "from sklearn.pipeline import Pipeline, make_pipeline\n",
    "from sklearn.model_selection import GridSearchCV\n",
    "from sklearn.metrics import accuracy_score, recall_score, f1_score, confusion_matrix, classification_report\n",
    "from sklearn.linear_model import LogisticRegression\n",
    "from sklearn.ensemble import RandomForestClassifier, ExtraTreesClassifier\n",
    "from sklearn import svm\n",
    "from sklearn.tree import DecisionTreeClassifier\n",
    "from sklearn.metrics import plot_confusion_matrix\n",
    "from sklearn.naive_bayes import BernoulliNB\n",
    "from sklearn.svm import SVC, LinearSVC\n",
    "from sklearn.feature_selection import SelectPercentile\n",
    "from tpot import TPOTClassifier\n",
    "from tpot.export_utils import set_param_recursive\n",
    "from xgboost import XGBClassifier\n",
    "\n",
    "\n",
    "%matplotlib inline"
   ]
  },
  {
   "cell_type": "code",
   "execution_count": 129,
   "metadata": {},
   "outputs": [
    {
     "data": {
      "text/html": [
       "<div>\n",
       "<style scoped>\n",
       "    .dataframe tbody tr th:only-of-type {\n",
       "        vertical-align: middle;\n",
       "    }\n",
       "\n",
       "    .dataframe tbody tr th {\n",
       "        vertical-align: top;\n",
       "    }\n",
       "\n",
       "    .dataframe thead th {\n",
       "        text-align: right;\n",
       "    }\n",
       "</style>\n",
       "<table border=\"1\" class=\"dataframe\">\n",
       "  <thead>\n",
       "    <tr style=\"text-align: right;\">\n",
       "      <th></th>\n",
       "      <th>baseline value</th>\n",
       "      <th>accelerations</th>\n",
       "      <th>fetal_movement</th>\n",
       "      <th>uterine_contractions</th>\n",
       "      <th>light_decelerations</th>\n",
       "      <th>severe_decelerations</th>\n",
       "      <th>prolongued_decelerations</th>\n",
       "      <th>abnormal_short_term_variability</th>\n",
       "      <th>mean_value_of_short_term_variability</th>\n",
       "      <th>percentage_of_time_with_abnormal_long_term_variability</th>\n",
       "      <th>...</th>\n",
       "      <th>histogram_min</th>\n",
       "      <th>histogram_max</th>\n",
       "      <th>histogram_number_of_peaks</th>\n",
       "      <th>histogram_number_of_zeroes</th>\n",
       "      <th>histogram_mode</th>\n",
       "      <th>histogram_mean</th>\n",
       "      <th>histogram_median</th>\n",
       "      <th>histogram_variance</th>\n",
       "      <th>histogram_tendency</th>\n",
       "      <th>fetal_health</th>\n",
       "    </tr>\n",
       "  </thead>\n",
       "  <tbody>\n",
       "    <tr>\n",
       "      <th>0</th>\n",
       "      <td>120.000</td>\n",
       "      <td>0.000</td>\n",
       "      <td>0.000</td>\n",
       "      <td>0.000</td>\n",
       "      <td>0.000</td>\n",
       "      <td>0.000</td>\n",
       "      <td>0.000</td>\n",
       "      <td>73.000</td>\n",
       "      <td>0.500</td>\n",
       "      <td>43.000</td>\n",
       "      <td>...</td>\n",
       "      <td>62.000</td>\n",
       "      <td>126.000</td>\n",
       "      <td>2.000</td>\n",
       "      <td>0.000</td>\n",
       "      <td>120.000</td>\n",
       "      <td>137.000</td>\n",
       "      <td>121.000</td>\n",
       "      <td>73.000</td>\n",
       "      <td>1.000</td>\n",
       "      <td>2.000</td>\n",
       "    </tr>\n",
       "    <tr>\n",
       "      <th>1</th>\n",
       "      <td>132.000</td>\n",
       "      <td>0.006</td>\n",
       "      <td>0.000</td>\n",
       "      <td>0.006</td>\n",
       "      <td>0.003</td>\n",
       "      <td>0.000</td>\n",
       "      <td>0.000</td>\n",
       "      <td>17.000</td>\n",
       "      <td>2.100</td>\n",
       "      <td>0.000</td>\n",
       "      <td>...</td>\n",
       "      <td>68.000</td>\n",
       "      <td>198.000</td>\n",
       "      <td>6.000</td>\n",
       "      <td>1.000</td>\n",
       "      <td>141.000</td>\n",
       "      <td>136.000</td>\n",
       "      <td>140.000</td>\n",
       "      <td>12.000</td>\n",
       "      <td>0.000</td>\n",
       "      <td>1.000</td>\n",
       "    </tr>\n",
       "    <tr>\n",
       "      <th>2</th>\n",
       "      <td>133.000</td>\n",
       "      <td>0.003</td>\n",
       "      <td>0.000</td>\n",
       "      <td>0.008</td>\n",
       "      <td>0.003</td>\n",
       "      <td>0.000</td>\n",
       "      <td>0.000</td>\n",
       "      <td>16.000</td>\n",
       "      <td>2.100</td>\n",
       "      <td>0.000</td>\n",
       "      <td>...</td>\n",
       "      <td>68.000</td>\n",
       "      <td>198.000</td>\n",
       "      <td>5.000</td>\n",
       "      <td>1.000</td>\n",
       "      <td>141.000</td>\n",
       "      <td>135.000</td>\n",
       "      <td>138.000</td>\n",
       "      <td>13.000</td>\n",
       "      <td>0.000</td>\n",
       "      <td>1.000</td>\n",
       "    </tr>\n",
       "    <tr>\n",
       "      <th>3</th>\n",
       "      <td>134.000</td>\n",
       "      <td>0.003</td>\n",
       "      <td>0.000</td>\n",
       "      <td>0.008</td>\n",
       "      <td>0.003</td>\n",
       "      <td>0.000</td>\n",
       "      <td>0.000</td>\n",
       "      <td>16.000</td>\n",
       "      <td>2.400</td>\n",
       "      <td>0.000</td>\n",
       "      <td>...</td>\n",
       "      <td>53.000</td>\n",
       "      <td>170.000</td>\n",
       "      <td>11.000</td>\n",
       "      <td>0.000</td>\n",
       "      <td>137.000</td>\n",
       "      <td>134.000</td>\n",
       "      <td>137.000</td>\n",
       "      <td>13.000</td>\n",
       "      <td>1.000</td>\n",
       "      <td>1.000</td>\n",
       "    </tr>\n",
       "    <tr>\n",
       "      <th>4</th>\n",
       "      <td>132.000</td>\n",
       "      <td>0.007</td>\n",
       "      <td>0.000</td>\n",
       "      <td>0.008</td>\n",
       "      <td>0.000</td>\n",
       "      <td>0.000</td>\n",
       "      <td>0.000</td>\n",
       "      <td>16.000</td>\n",
       "      <td>2.400</td>\n",
       "      <td>0.000</td>\n",
       "      <td>...</td>\n",
       "      <td>53.000</td>\n",
       "      <td>170.000</td>\n",
       "      <td>9.000</td>\n",
       "      <td>0.000</td>\n",
       "      <td>137.000</td>\n",
       "      <td>136.000</td>\n",
       "      <td>138.000</td>\n",
       "      <td>11.000</td>\n",
       "      <td>1.000</td>\n",
       "      <td>1.000</td>\n",
       "    </tr>\n",
       "  </tbody>\n",
       "</table>\n",
       "<p>5 rows × 22 columns</p>\n",
       "</div>"
      ],
      "text/plain": [
       "   baseline value  accelerations  fetal_movement  uterine_contractions  \\\n",
       "0         120.000          0.000           0.000                 0.000   \n",
       "1         132.000          0.006           0.000                 0.006   \n",
       "2         133.000          0.003           0.000                 0.008   \n",
       "3         134.000          0.003           0.000                 0.008   \n",
       "4         132.000          0.007           0.000                 0.008   \n",
       "\n",
       "   light_decelerations  severe_decelerations  prolongued_decelerations  \\\n",
       "0                0.000                 0.000                     0.000   \n",
       "1                0.003                 0.000                     0.000   \n",
       "2                0.003                 0.000                     0.000   \n",
       "3                0.003                 0.000                     0.000   \n",
       "4                0.000                 0.000                     0.000   \n",
       "\n",
       "   abnormal_short_term_variability  mean_value_of_short_term_variability  \\\n",
       "0                           73.000                                 0.500   \n",
       "1                           17.000                                 2.100   \n",
       "2                           16.000                                 2.100   \n",
       "3                           16.000                                 2.400   \n",
       "4                           16.000                                 2.400   \n",
       "\n",
       "   percentage_of_time_with_abnormal_long_term_variability  ...  histogram_min  \\\n",
       "0                                             43.000       ...         62.000   \n",
       "1                                              0.000       ...         68.000   \n",
       "2                                              0.000       ...         68.000   \n",
       "3                                              0.000       ...         53.000   \n",
       "4                                              0.000       ...         53.000   \n",
       "\n",
       "   histogram_max  histogram_number_of_peaks  histogram_number_of_zeroes  \\\n",
       "0        126.000                      2.000                       0.000   \n",
       "1        198.000                      6.000                       1.000   \n",
       "2        198.000                      5.000                       1.000   \n",
       "3        170.000                     11.000                       0.000   \n",
       "4        170.000                      9.000                       0.000   \n",
       "\n",
       "   histogram_mode  histogram_mean  histogram_median  histogram_variance  \\\n",
       "0         120.000         137.000           121.000              73.000   \n",
       "1         141.000         136.000           140.000              12.000   \n",
       "2         141.000         135.000           138.000              13.000   \n",
       "3         137.000         134.000           137.000              13.000   \n",
       "4         137.000         136.000           138.000              11.000   \n",
       "\n",
       "   histogram_tendency  fetal_health  \n",
       "0               1.000         2.000  \n",
       "1               0.000         1.000  \n",
       "2               0.000         1.000  \n",
       "3               1.000         1.000  \n",
       "4               1.000         1.000  \n",
       "\n",
       "[5 rows x 22 columns]"
      ]
     },
     "execution_count": 129,
     "metadata": {},
     "output_type": "execute_result"
    }
   ],
   "source": [
    "# reading the csv file\n",
    "df = pd.read_csv('data/fetal_health.csv')\n",
    "# previewing the DataFrame\n",
    "df.head()"
   ]
  },
  {
   "cell_type": "code",
   "execution_count": 130,
   "metadata": {
    "scrolled": true
   },
   "outputs": [
    {
     "name": "stdout",
     "output_type": "stream",
     "text": [
      "<class 'pandas.core.frame.DataFrame'>\n",
      "RangeIndex: 2126 entries, 0 to 2125\n",
      "Data columns (total 22 columns):\n",
      " #   Column                                                  Non-Null Count  Dtype  \n",
      "---  ------                                                  --------------  -----  \n",
      " 0   baseline value                                          2126 non-null   float64\n",
      " 1   accelerations                                           2126 non-null   float64\n",
      " 2   fetal_movement                                          2126 non-null   float64\n",
      " 3   uterine_contractions                                    2126 non-null   float64\n",
      " 4   light_decelerations                                     2126 non-null   float64\n",
      " 5   severe_decelerations                                    2126 non-null   float64\n",
      " 6   prolongued_decelerations                                2126 non-null   float64\n",
      " 7   abnormal_short_term_variability                         2126 non-null   float64\n",
      " 8   mean_value_of_short_term_variability                    2126 non-null   float64\n",
      " 9   percentage_of_time_with_abnormal_long_term_variability  2126 non-null   float64\n",
      " 10  mean_value_of_long_term_variability                     2126 non-null   float64\n",
      " 11  histogram_width                                         2126 non-null   float64\n",
      " 12  histogram_min                                           2126 non-null   float64\n",
      " 13  histogram_max                                           2126 non-null   float64\n",
      " 14  histogram_number_of_peaks                               2126 non-null   float64\n",
      " 15  histogram_number_of_zeroes                              2126 non-null   float64\n",
      " 16  histogram_mode                                          2126 non-null   float64\n",
      " 17  histogram_mean                                          2126 non-null   float64\n",
      " 18  histogram_median                                        2126 non-null   float64\n",
      " 19  histogram_variance                                      2126 non-null   float64\n",
      " 20  histogram_tendency                                      2126 non-null   float64\n",
      " 21  fetal_health                                            2126 non-null   float64\n",
      "dtypes: float64(22)\n",
      "memory usage: 365.5 KB\n"
     ]
    }
   ],
   "source": [
    "# getting info for DataFrame\n",
    "df.info()"
   ]
  },
  {
   "cell_type": "code",
   "execution_count": 131,
   "metadata": {},
   "outputs": [
    {
     "data": {
      "text/plain": [
       "(2126, 22)"
      ]
     },
     "execution_count": 131,
     "metadata": {},
     "output_type": "execute_result"
    }
   ],
   "source": [
    "df.shape"
   ]
  },
  {
   "cell_type": "code",
   "execution_count": 132,
   "metadata": {
    "scrolled": true
   },
   "outputs": [
    {
     "data": {
      "text/html": [
       "<div>\n",
       "<style scoped>\n",
       "    .dataframe tbody tr th:only-of-type {\n",
       "        vertical-align: middle;\n",
       "    }\n",
       "\n",
       "    .dataframe tbody tr th {\n",
       "        vertical-align: top;\n",
       "    }\n",
       "\n",
       "    .dataframe thead th {\n",
       "        text-align: right;\n",
       "    }\n",
       "</style>\n",
       "<table border=\"1\" class=\"dataframe\">\n",
       "  <thead>\n",
       "    <tr style=\"text-align: right;\">\n",
       "      <th></th>\n",
       "      <th>baseline value</th>\n",
       "      <th>accelerations</th>\n",
       "      <th>fetal_movement</th>\n",
       "      <th>uterine_contractions</th>\n",
       "      <th>light_decelerations</th>\n",
       "      <th>severe_decelerations</th>\n",
       "      <th>prolongued_decelerations</th>\n",
       "      <th>abnormal_short_term_variability</th>\n",
       "      <th>mean_value_of_short_term_variability</th>\n",
       "      <th>percentage_of_time_with_abnormal_long_term_variability</th>\n",
       "      <th>...</th>\n",
       "      <th>histogram_min</th>\n",
       "      <th>histogram_max</th>\n",
       "      <th>histogram_number_of_peaks</th>\n",
       "      <th>histogram_number_of_zeroes</th>\n",
       "      <th>histogram_mode</th>\n",
       "      <th>histogram_mean</th>\n",
       "      <th>histogram_median</th>\n",
       "      <th>histogram_variance</th>\n",
       "      <th>histogram_tendency</th>\n",
       "      <th>fetal_health</th>\n",
       "    </tr>\n",
       "  </thead>\n",
       "  <tbody>\n",
       "    <tr>\n",
       "      <th>count</th>\n",
       "      <td>2126.000</td>\n",
       "      <td>2126.000</td>\n",
       "      <td>2126.000</td>\n",
       "      <td>2126.000</td>\n",
       "      <td>2126.000</td>\n",
       "      <td>2126.000</td>\n",
       "      <td>2126.000</td>\n",
       "      <td>2126.000</td>\n",
       "      <td>2126.000</td>\n",
       "      <td>2126.000</td>\n",
       "      <td>...</td>\n",
       "      <td>2126.000</td>\n",
       "      <td>2126.000</td>\n",
       "      <td>2126.000</td>\n",
       "      <td>2126.000</td>\n",
       "      <td>2126.000</td>\n",
       "      <td>2126.000</td>\n",
       "      <td>2126.000</td>\n",
       "      <td>2126.000</td>\n",
       "      <td>2126.000</td>\n",
       "      <td>2126.000</td>\n",
       "    </tr>\n",
       "    <tr>\n",
       "      <th>mean</th>\n",
       "      <td>133.304</td>\n",
       "      <td>0.003</td>\n",
       "      <td>0.009</td>\n",
       "      <td>0.004</td>\n",
       "      <td>0.002</td>\n",
       "      <td>0.000</td>\n",
       "      <td>0.000</td>\n",
       "      <td>46.990</td>\n",
       "      <td>1.333</td>\n",
       "      <td>9.847</td>\n",
       "      <td>...</td>\n",
       "      <td>93.579</td>\n",
       "      <td>164.025</td>\n",
       "      <td>4.068</td>\n",
       "      <td>0.324</td>\n",
       "      <td>137.452</td>\n",
       "      <td>134.611</td>\n",
       "      <td>138.090</td>\n",
       "      <td>18.808</td>\n",
       "      <td>0.320</td>\n",
       "      <td>1.304</td>\n",
       "    </tr>\n",
       "    <tr>\n",
       "      <th>std</th>\n",
       "      <td>9.841</td>\n",
       "      <td>0.004</td>\n",
       "      <td>0.047</td>\n",
       "      <td>0.003</td>\n",
       "      <td>0.003</td>\n",
       "      <td>0.000</td>\n",
       "      <td>0.001</td>\n",
       "      <td>17.193</td>\n",
       "      <td>0.883</td>\n",
       "      <td>18.397</td>\n",
       "      <td>...</td>\n",
       "      <td>29.560</td>\n",
       "      <td>17.944</td>\n",
       "      <td>2.949</td>\n",
       "      <td>0.706</td>\n",
       "      <td>16.381</td>\n",
       "      <td>15.594</td>\n",
       "      <td>14.467</td>\n",
       "      <td>28.978</td>\n",
       "      <td>0.611</td>\n",
       "      <td>0.614</td>\n",
       "    </tr>\n",
       "    <tr>\n",
       "      <th>min</th>\n",
       "      <td>106.000</td>\n",
       "      <td>0.000</td>\n",
       "      <td>0.000</td>\n",
       "      <td>0.000</td>\n",
       "      <td>0.000</td>\n",
       "      <td>0.000</td>\n",
       "      <td>0.000</td>\n",
       "      <td>12.000</td>\n",
       "      <td>0.200</td>\n",
       "      <td>0.000</td>\n",
       "      <td>...</td>\n",
       "      <td>50.000</td>\n",
       "      <td>122.000</td>\n",
       "      <td>0.000</td>\n",
       "      <td>0.000</td>\n",
       "      <td>60.000</td>\n",
       "      <td>73.000</td>\n",
       "      <td>77.000</td>\n",
       "      <td>0.000</td>\n",
       "      <td>-1.000</td>\n",
       "      <td>1.000</td>\n",
       "    </tr>\n",
       "    <tr>\n",
       "      <th>25%</th>\n",
       "      <td>126.000</td>\n",
       "      <td>0.000</td>\n",
       "      <td>0.000</td>\n",
       "      <td>0.002</td>\n",
       "      <td>0.000</td>\n",
       "      <td>0.000</td>\n",
       "      <td>0.000</td>\n",
       "      <td>32.000</td>\n",
       "      <td>0.700</td>\n",
       "      <td>0.000</td>\n",
       "      <td>...</td>\n",
       "      <td>67.000</td>\n",
       "      <td>152.000</td>\n",
       "      <td>2.000</td>\n",
       "      <td>0.000</td>\n",
       "      <td>129.000</td>\n",
       "      <td>125.000</td>\n",
       "      <td>129.000</td>\n",
       "      <td>2.000</td>\n",
       "      <td>0.000</td>\n",
       "      <td>1.000</td>\n",
       "    </tr>\n",
       "    <tr>\n",
       "      <th>50%</th>\n",
       "      <td>133.000</td>\n",
       "      <td>0.002</td>\n",
       "      <td>0.000</td>\n",
       "      <td>0.004</td>\n",
       "      <td>0.000</td>\n",
       "      <td>0.000</td>\n",
       "      <td>0.000</td>\n",
       "      <td>49.000</td>\n",
       "      <td>1.200</td>\n",
       "      <td>0.000</td>\n",
       "      <td>...</td>\n",
       "      <td>93.000</td>\n",
       "      <td>162.000</td>\n",
       "      <td>3.000</td>\n",
       "      <td>0.000</td>\n",
       "      <td>139.000</td>\n",
       "      <td>136.000</td>\n",
       "      <td>139.000</td>\n",
       "      <td>7.000</td>\n",
       "      <td>0.000</td>\n",
       "      <td>1.000</td>\n",
       "    </tr>\n",
       "    <tr>\n",
       "      <th>75%</th>\n",
       "      <td>140.000</td>\n",
       "      <td>0.006</td>\n",
       "      <td>0.003</td>\n",
       "      <td>0.007</td>\n",
       "      <td>0.003</td>\n",
       "      <td>0.000</td>\n",
       "      <td>0.000</td>\n",
       "      <td>61.000</td>\n",
       "      <td>1.700</td>\n",
       "      <td>11.000</td>\n",
       "      <td>...</td>\n",
       "      <td>120.000</td>\n",
       "      <td>174.000</td>\n",
       "      <td>6.000</td>\n",
       "      <td>0.000</td>\n",
       "      <td>148.000</td>\n",
       "      <td>145.000</td>\n",
       "      <td>148.000</td>\n",
       "      <td>24.000</td>\n",
       "      <td>1.000</td>\n",
       "      <td>1.000</td>\n",
       "    </tr>\n",
       "    <tr>\n",
       "      <th>max</th>\n",
       "      <td>160.000</td>\n",
       "      <td>0.019</td>\n",
       "      <td>0.481</td>\n",
       "      <td>0.015</td>\n",
       "      <td>0.015</td>\n",
       "      <td>0.001</td>\n",
       "      <td>0.005</td>\n",
       "      <td>87.000</td>\n",
       "      <td>7.000</td>\n",
       "      <td>91.000</td>\n",
       "      <td>...</td>\n",
       "      <td>159.000</td>\n",
       "      <td>238.000</td>\n",
       "      <td>18.000</td>\n",
       "      <td>10.000</td>\n",
       "      <td>187.000</td>\n",
       "      <td>182.000</td>\n",
       "      <td>186.000</td>\n",
       "      <td>269.000</td>\n",
       "      <td>1.000</td>\n",
       "      <td>3.000</td>\n",
       "    </tr>\n",
       "  </tbody>\n",
       "</table>\n",
       "<p>8 rows × 22 columns</p>\n",
       "</div>"
      ],
      "text/plain": [
       "       baseline value  accelerations  fetal_movement  uterine_contractions  \\\n",
       "count        2126.000       2126.000        2126.000              2126.000   \n",
       "mean          133.304          0.003           0.009                 0.004   \n",
       "std             9.841          0.004           0.047                 0.003   \n",
       "min           106.000          0.000           0.000                 0.000   \n",
       "25%           126.000          0.000           0.000                 0.002   \n",
       "50%           133.000          0.002           0.000                 0.004   \n",
       "75%           140.000          0.006           0.003                 0.007   \n",
       "max           160.000          0.019           0.481                 0.015   \n",
       "\n",
       "       light_decelerations  severe_decelerations  prolongued_decelerations  \\\n",
       "count             2126.000              2126.000                  2126.000   \n",
       "mean                 0.002                 0.000                     0.000   \n",
       "std                  0.003                 0.000                     0.001   \n",
       "min                  0.000                 0.000                     0.000   \n",
       "25%                  0.000                 0.000                     0.000   \n",
       "50%                  0.000                 0.000                     0.000   \n",
       "75%                  0.003                 0.000                     0.000   \n",
       "max                  0.015                 0.001                     0.005   \n",
       "\n",
       "       abnormal_short_term_variability  mean_value_of_short_term_variability  \\\n",
       "count                         2126.000                              2126.000   \n",
       "mean                            46.990                                 1.333   \n",
       "std                             17.193                                 0.883   \n",
       "min                             12.000                                 0.200   \n",
       "25%                             32.000                                 0.700   \n",
       "50%                             49.000                                 1.200   \n",
       "75%                             61.000                                 1.700   \n",
       "max                             87.000                                 7.000   \n",
       "\n",
       "       percentage_of_time_with_abnormal_long_term_variability  ...  \\\n",
       "count                                           2126.000       ...   \n",
       "mean                                               9.847       ...   \n",
       "std                                               18.397       ...   \n",
       "min                                                0.000       ...   \n",
       "25%                                                0.000       ...   \n",
       "50%                                                0.000       ...   \n",
       "75%                                               11.000       ...   \n",
       "max                                               91.000       ...   \n",
       "\n",
       "       histogram_min  histogram_max  histogram_number_of_peaks  \\\n",
       "count       2126.000       2126.000                   2126.000   \n",
       "mean          93.579        164.025                      4.068   \n",
       "std           29.560         17.944                      2.949   \n",
       "min           50.000        122.000                      0.000   \n",
       "25%           67.000        152.000                      2.000   \n",
       "50%           93.000        162.000                      3.000   \n",
       "75%          120.000        174.000                      6.000   \n",
       "max          159.000        238.000                     18.000   \n",
       "\n",
       "       histogram_number_of_zeroes  histogram_mode  histogram_mean  \\\n",
       "count                    2126.000        2126.000        2126.000   \n",
       "mean                        0.324         137.452         134.611   \n",
       "std                         0.706          16.381          15.594   \n",
       "min                         0.000          60.000          73.000   \n",
       "25%                         0.000         129.000         125.000   \n",
       "50%                         0.000         139.000         136.000   \n",
       "75%                         0.000         148.000         145.000   \n",
       "max                        10.000         187.000         182.000   \n",
       "\n",
       "       histogram_median  histogram_variance  histogram_tendency  fetal_health  \n",
       "count          2126.000            2126.000            2126.000      2126.000  \n",
       "mean            138.090              18.808               0.320         1.304  \n",
       "std              14.467              28.978               0.611         0.614  \n",
       "min              77.000               0.000              -1.000         1.000  \n",
       "25%             129.000               2.000               0.000         1.000  \n",
       "50%             139.000               7.000               0.000         1.000  \n",
       "75%             148.000              24.000               1.000         1.000  \n",
       "max             186.000             269.000               1.000         3.000  \n",
       "\n",
       "[8 rows x 22 columns]"
      ]
     },
     "execution_count": 132,
     "metadata": {},
     "output_type": "execute_result"
    }
   ],
   "source": [
    "df.describe()"
   ]
  },
  {
   "cell_type": "code",
   "execution_count": 133,
   "metadata": {},
   "outputs": [
    {
     "data": {
      "text/plain": [
       "Index(['baseline_value', 'accelerations', 'fetal_movement',\n",
       "       'uterine_contractions', 'light_decelerations', 'severe_decelerations',\n",
       "       'prolonged_decelerations', 'abnormal_short_term_variability',\n",
       "       'mean_value_of_short_term_variability',\n",
       "       'percentage_of_time_with_abnormal_long_term_variability',\n",
       "       'mean_value_of_long_term_variability', 'histogram_width',\n",
       "       'histogram_min', 'histogram_max', 'histogram_number_of_peaks',\n",
       "       'histogram_number_of_zeroes', 'histogram_mode', 'histogram_mean',\n",
       "       'histogram_median', 'histogram_variance', 'histogram_tendency',\n",
       "       'fetal_health'],\n",
       "      dtype='object')"
      ]
     },
     "execution_count": 133,
     "metadata": {},
     "output_type": "execute_result"
    }
   ],
   "source": [
    "# renaming baseline value column to make it easier to work with\n",
    "df = df.rename(columns = {'baseline value':'baseline_value', 'prolongued_decelerations': 'prolonged_decelerations'})\n",
    "df.columns"
   ]
  },
  {
   "cell_type": "markdown",
   "metadata": {},
   "source": [
    "The columns are described from the data source as follows: \n",
    "\n",
    "* baseline value - Baseline Fetal Heart Rate (FHR) (beats per minute)  \n",
    "* accelerations - Number of accelerations per second  \n",
    "* fetal_movement - Number of fetal movements per second  \n",
    "* uterine_contractions - Number of uterine contractions per second  \n",
    "* light_decelerations - Number of light decelerations per second  \n",
    "* severe_decelerations - Number of severe decelerations per second  \n",
    "* prolongued_decelerations - Number of prolonged decelerations per second  * abnormal_short_term_variability - Percentage of time with abnormal short-term variability  \n",
    "* mean_value_of_short_term_variability - Mean value of short-term variability  \n",
    "* percentage_of_time_with_abnormal_long_term_variability - Percentage of time with abnormal long-term variability  \n",
    "* mean_value_of_long_term_variability - Mean value of long-term variability \n",
    "* histogram_width - Width of FHR histogram (generated from exam)  \n",
    "* histogram_min - Minimum of FHR histogram (generated from exam)  \n",
    "* histogram_max - Maximum of FHR histogram (generated from exam)  \n",
    "* histogram_number_of_peaks - Number of FHR histogram peaks (generated from exam)  \n",
    "* histogram_number_of_zeroes - Number of FHR histogram zeroes (generated from exam)  \n",
    "* histogram_mode - Mode of FHR histogram (generated from exam)  \n",
    "* histogram_mean - Mean of FHR histogram (generated from exam)  \n",
    "* histogram_median - Median of FHR histogram (generated from exam)  \n",
    "* histogram_variance - Variance of FHR histogram (generated from exam)  \n",
    "* histogram_tendency - Tendency of FHR histogram (generated from exam)  \n",
    "* fetal_health - Fetal health as assessed by expert obstetrician. 1 - Normal, 2 - Suspect, 3 - Pathological           "
   ]
  },
  {
   "cell_type": "code",
   "execution_count": 134,
   "metadata": {},
   "outputs": [
    {
     "data": {
      "text/plain": [
       "0.000    894\n",
       "0.003    161\n",
       "0.002    160\n",
       "0.001    143\n",
       "0.004    117\n",
       "0.006    112\n",
       "0.005    110\n",
       "0.008    103\n",
       "0.007     91\n",
       "0.009     60\n",
       "0.010     50\n",
       "0.011     36\n",
       "0.012     24\n",
       "0.013     22\n",
       "0.014     20\n",
       "0.015      9\n",
       "0.016      7\n",
       "0.017      4\n",
       "0.018      2\n",
       "0.019      1\n",
       "Name: accelerations, dtype: int64"
      ]
     },
     "execution_count": 134,
     "metadata": {},
     "output_type": "execute_result"
    }
   ],
   "source": [
    "# getting value counts for fetal accelerations column\n",
    "df.accelerations.value_counts()"
   ]
  },
  {
   "cell_type": "code",
   "execution_count": 135,
   "metadata": {},
   "outputs": [
    {
     "data": {
      "image/png": "[encoded data removed]",
      "text/plain": [
       "<Figure size 432x288 with 1 Axes>"
      ]
     },
     "metadata": {
      "needs_background": "light"
     },
     "output_type": "display_data"
    }
   ],
   "source": [
    "# plotting acceleration frequencies\n",
    "sns.set_palette(palette='RdPu')\n",
    "df.accelerations.hist();"
   ]
  },
  {
   "cell_type": "markdown",
   "metadata": {},
   "source": [
    "The majority of observed fetal heart rate accelerations were 0.00. "
   ]
  },
  {
   "cell_type": "code",
   "execution_count": 136,
   "metadata": {},
   "outputs": [
    {
     "data": {
      "text/plain": [
       "0.000    1311\n",
       "0.001     164\n",
       "0.002     112\n",
       "0.003      88\n",
       "0.004      49\n",
       "         ... \n",
       "0.340       1\n",
       "0.383       1\n",
       "0.092       1\n",
       "0.032       1\n",
       "0.306       1\n",
       "Name: fetal_movement, Length: 102, dtype: int64"
      ]
     },
     "execution_count": 136,
     "metadata": {},
     "output_type": "execute_result"
    }
   ],
   "source": [
    "# getting value counts for fetal movement column\n",
    "df.fetal_movement.value_counts()"
   ]
  },
  {
   "cell_type": "code",
   "execution_count": 137,
   "metadata": {},
   "outputs": [
    {
     "data": {
      "image/png": "[encoded data removed]",
      "text/plain": [
       "<Figure size 432x288 with 1 Axes>"
      ]
     },
     "metadata": {
      "needs_background": "light"
     },
     "output_type": "display_data"
    }
   ],
   "source": [
    "# plotting fetal movement frequencies\n",
    "df.fetal_movement.hist();"
   ]
  },
  {
   "cell_type": "markdown",
   "metadata": {},
   "source": [
    "The fetal movement value with the highest frequency is once again 0.00."
   ]
  },
  {
   "cell_type": "code",
   "execution_count": 138,
   "metadata": {},
   "outputs": [
    {
     "data": {
      "text/plain": [
       "0.000    2119\n",
       "0.001       7\n",
       "Name: severe_decelerations, dtype: int64"
      ]
     },
     "execution_count": 138,
     "metadata": {},
     "output_type": "execute_result"
    }
   ],
   "source": [
    "df.severe_decelerations.value_counts()"
   ]
  },
  {
   "cell_type": "markdown",
   "metadata": {},
   "source": [
    "There were only 7 observed severe decelerations in the dataset."
   ]
  },
  {
   "cell_type": "code",
   "execution_count": 139,
   "metadata": {
    "scrolled": true
   },
   "outputs": [
    {
     "data": {
      "image/png": "[encoded data removed]",
      "text/plain": [
       "<Figure size 432x288 with 1 Axes>"
      ]
     },
     "metadata": {
      "needs_background": "light"
     },
     "output_type": "display_data"
    }
   ],
   "source": [
    "df.abnormal_short_term_variability.hist();"
   ]
  },
  {
   "cell_type": "markdown",
   "metadata": {},
   "source": [
    "This column is a measure of the percentage of time with abnormal short-term variability. According to the American Academy of Family Physicians (AAFP.org), short-term variability of the fetal heart rate is defined as \"the oscillation of the FHR around the baseline in amplitude of 5 to 10 bpm.\" In other words, it is normal and expected to have some variability of the fetal heart rate around the baseline. However, this column is a measure of the percentage of time that an abnormal variability was observed. Considering that most of the fetal health outcomes were normal, I found it surprising that there were quite a few records with high abnormal percentages of short-term variability."
   ]
  },
  {
   "cell_type": "code",
   "execution_count": 140,
   "metadata": {
    "scrolled": true
   },
   "outputs": [
    {
     "data": {
      "text/plain": [
       "count   2126.000\n",
       "mean      70.446\n",
       "std       38.956\n",
       "min        3.000\n",
       "25%       37.000\n",
       "50%       67.500\n",
       "75%      100.000\n",
       "max      180.000\n",
       "Name: histogram_width, dtype: float64"
      ]
     },
     "execution_count": 140,
     "metadata": {},
     "output_type": "execute_result"
    }
   ],
   "source": [
    "df.histogram_width.describe()"
   ]
  },
  {
   "cell_type": "code",
   "execution_count": 141,
   "metadata": {},
   "outputs": [
    {
     "data": {
      "text/plain": [
       "count   2126.000\n",
       "mean      93.579\n",
       "std       29.560\n",
       "min       50.000\n",
       "25%       67.000\n",
       "50%       93.000\n",
       "75%      120.000\n",
       "max      159.000\n",
       "Name: histogram_min, dtype: float64"
      ]
     },
     "execution_count": 141,
     "metadata": {},
     "output_type": "execute_result"
    }
   ],
   "source": [
    "df.histogram_min.describe()"
   ]
  },
  {
   "cell_type": "code",
   "execution_count": 142,
   "metadata": {},
   "outputs": [
    {
     "data": {
      "text/plain": [
       "count   2126.000\n",
       "mean     164.025\n",
       "std       17.944\n",
       "min      122.000\n",
       "25%      152.000\n",
       "50%      162.000\n",
       "75%      174.000\n",
       "max      238.000\n",
       "Name: histogram_max, dtype: float64"
      ]
     },
     "execution_count": 142,
     "metadata": {},
     "output_type": "execute_result"
    }
   ],
   "source": [
    "df.histogram_max.describe()"
   ]
  },
  {
   "cell_type": "code",
   "execution_count": 143,
   "metadata": {},
   "outputs": [
    {
     "data": {
      "text/html": [
       "<div>\n",
       "<style scoped>\n",
       "    .dataframe tbody tr th:only-of-type {\n",
       "        vertical-align: middle;\n",
       "    }\n",
       "\n",
       "    .dataframe tbody tr th {\n",
       "        vertical-align: top;\n",
       "    }\n",
       "\n",
       "    .dataframe thead th {\n",
       "        text-align: right;\n",
       "    }\n",
       "</style>\n",
       "<table border=\"1\" class=\"dataframe\">\n",
       "  <thead>\n",
       "    <tr style=\"text-align: right;\">\n",
       "      <th></th>\n",
       "      <th>baseline_value</th>\n",
       "      <th>accelerations</th>\n",
       "      <th>fetal_movement</th>\n",
       "      <th>uterine_contractions</th>\n",
       "      <th>light_decelerations</th>\n",
       "      <th>severe_decelerations</th>\n",
       "      <th>prolonged_decelerations</th>\n",
       "      <th>abnormal_short_term_variability</th>\n",
       "      <th>mean_value_of_short_term_variability</th>\n",
       "      <th>percentage_of_time_with_abnormal_long_term_variability</th>\n",
       "      <th>...</th>\n",
       "      <th>histogram_min</th>\n",
       "      <th>histogram_max</th>\n",
       "      <th>histogram_number_of_peaks</th>\n",
       "      <th>histogram_number_of_zeroes</th>\n",
       "      <th>histogram_mode</th>\n",
       "      <th>histogram_mean</th>\n",
       "      <th>histogram_median</th>\n",
       "      <th>histogram_variance</th>\n",
       "      <th>histogram_tendency</th>\n",
       "      <th>fetal_health</th>\n",
       "    </tr>\n",
       "  </thead>\n",
       "  <tbody>\n",
       "    <tr>\n",
       "      <th>baseline_value</th>\n",
       "      <td>1.000</td>\n",
       "      <td>-0.081</td>\n",
       "      <td>-0.033</td>\n",
       "      <td>-0.146</td>\n",
       "      <td>-0.159</td>\n",
       "      <td>-0.054</td>\n",
       "      <td>-0.105</td>\n",
       "      <td>0.306</td>\n",
       "      <td>-0.280</td>\n",
       "      <td>0.286</td>\n",
       "      <td>...</td>\n",
       "      <td>0.362</td>\n",
       "      <td>0.275</td>\n",
       "      <td>-0.114</td>\n",
       "      <td>-0.005</td>\n",
       "      <td>0.709</td>\n",
       "      <td>0.723</td>\n",
       "      <td>0.789</td>\n",
       "      <td>-0.134</td>\n",
       "      <td>0.294</td>\n",
       "      <td>0.148</td>\n",
       "    </tr>\n",
       "    <tr>\n",
       "      <th>accelerations</th>\n",
       "      <td>-0.081</td>\n",
       "      <td>1.000</td>\n",
       "      <td>0.048</td>\n",
       "      <td>0.090</td>\n",
       "      <td>-0.109</td>\n",
       "      <td>-0.043</td>\n",
       "      <td>-0.128</td>\n",
       "      <td>-0.280</td>\n",
       "      <td>0.207</td>\n",
       "      <td>-0.374</td>\n",
       "      <td>...</td>\n",
       "      <td>-0.154</td>\n",
       "      <td>0.394</td>\n",
       "      <td>0.190</td>\n",
       "      <td>-0.006</td>\n",
       "      <td>0.244</td>\n",
       "      <td>0.270</td>\n",
       "      <td>0.273</td>\n",
       "      <td>0.126</td>\n",
       "      <td>0.028</td>\n",
       "      <td>-0.364</td>\n",
       "    </tr>\n",
       "    <tr>\n",
       "      <th>fetal_movement</th>\n",
       "      <td>-0.033</td>\n",
       "      <td>0.048</td>\n",
       "      <td>1.000</td>\n",
       "      <td>-0.069</td>\n",
       "      <td>0.049</td>\n",
       "      <td>-0.011</td>\n",
       "      <td>0.266</td>\n",
       "      <td>-0.104</td>\n",
       "      <td>0.121</td>\n",
       "      <td>-0.074</td>\n",
       "      <td>...</td>\n",
       "      <td>-0.154</td>\n",
       "      <td>0.100</td>\n",
       "      <td>0.165</td>\n",
       "      <td>-0.018</td>\n",
       "      <td>-0.061</td>\n",
       "      <td>-0.090</td>\n",
       "      <td>-0.072</td>\n",
       "      <td>0.179</td>\n",
       "      <td>-0.002</td>\n",
       "      <td>0.088</td>\n",
       "    </tr>\n",
       "    <tr>\n",
       "      <th>uterine_contractions</th>\n",
       "      <td>-0.146</td>\n",
       "      <td>0.090</td>\n",
       "      <td>-0.069</td>\n",
       "      <td>1.000</td>\n",
       "      <td>0.285</td>\n",
       "      <td>0.007</td>\n",
       "      <td>0.077</td>\n",
       "      <td>-0.233</td>\n",
       "      <td>0.290</td>\n",
       "      <td>-0.307</td>\n",
       "      <td>...</td>\n",
       "      <td>-0.113</td>\n",
       "      <td>0.123</td>\n",
       "      <td>0.083</td>\n",
       "      <td>0.058</td>\n",
       "      <td>-0.105</td>\n",
       "      <td>-0.188</td>\n",
       "      <td>-0.140</td>\n",
       "      <td>0.239</td>\n",
       "      <td>-0.072</td>\n",
       "      <td>-0.205</td>\n",
       "    </tr>\n",
       "    <tr>\n",
       "      <th>light_decelerations</th>\n",
       "      <td>-0.159</td>\n",
       "      <td>-0.109</td>\n",
       "      <td>0.049</td>\n",
       "      <td>0.285</td>\n",
       "      <td>1.000</td>\n",
       "      <td>0.108</td>\n",
       "      <td>0.226</td>\n",
       "      <td>-0.119</td>\n",
       "      <td>0.562</td>\n",
       "      <td>-0.271</td>\n",
       "      <td>...</td>\n",
       "      <td>-0.554</td>\n",
       "      <td>0.218</td>\n",
       "      <td>0.398</td>\n",
       "      <td>0.235</td>\n",
       "      <td>-0.347</td>\n",
       "      <td>-0.527</td>\n",
       "      <td>-0.389</td>\n",
       "      <td>0.564</td>\n",
       "      <td>0.000</td>\n",
       "      <td>0.059</td>\n",
       "    </tr>\n",
       "    <tr>\n",
       "      <th>severe_decelerations</th>\n",
       "      <td>-0.054</td>\n",
       "      <td>-0.043</td>\n",
       "      <td>-0.011</td>\n",
       "      <td>0.007</td>\n",
       "      <td>0.108</td>\n",
       "      <td>1.000</td>\n",
       "      <td>0.012</td>\n",
       "      <td>0.034</td>\n",
       "      <td>0.034</td>\n",
       "      <td>-0.031</td>\n",
       "      <td>...</td>\n",
       "      <td>-0.072</td>\n",
       "      <td>-0.021</td>\n",
       "      <td>0.007</td>\n",
       "      <td>0.043</td>\n",
       "      <td>-0.215</td>\n",
       "      <td>-0.159</td>\n",
       "      <td>-0.160</td>\n",
       "      <td>0.136</td>\n",
       "      <td>-0.070</td>\n",
       "      <td>0.132</td>\n",
       "    </tr>\n",
       "    <tr>\n",
       "      <th>prolonged_decelerations</th>\n",
       "      <td>-0.105</td>\n",
       "      <td>-0.128</td>\n",
       "      <td>0.266</td>\n",
       "      <td>0.077</td>\n",
       "      <td>0.226</td>\n",
       "      <td>0.012</td>\n",
       "      <td>1.000</td>\n",
       "      <td>0.046</td>\n",
       "      <td>0.267</td>\n",
       "      <td>-0.137</td>\n",
       "      <td>...</td>\n",
       "      <td>-0.277</td>\n",
       "      <td>0.120</td>\n",
       "      <td>0.223</td>\n",
       "      <td>0.056</td>\n",
       "      <td>-0.436</td>\n",
       "      <td>-0.489</td>\n",
       "      <td>-0.445</td>\n",
       "      <td>0.503</td>\n",
       "      <td>-0.215</td>\n",
       "      <td>0.485</td>\n",
       "    </tr>\n",
       "    <tr>\n",
       "      <th>abnormal_short_term_variability</th>\n",
       "      <td>0.306</td>\n",
       "      <td>-0.280</td>\n",
       "      <td>-0.104</td>\n",
       "      <td>-0.233</td>\n",
       "      <td>-0.119</td>\n",
       "      <td>0.034</td>\n",
       "      <td>0.046</td>\n",
       "      <td>1.000</td>\n",
       "      <td>-0.431</td>\n",
       "      <td>0.459</td>\n",
       "      <td>...</td>\n",
       "      <td>0.275</td>\n",
       "      <td>-0.112</td>\n",
       "      <td>-0.168</td>\n",
       "      <td>-0.149</td>\n",
       "      <td>0.058</td>\n",
       "      <td>0.075</td>\n",
       "      <td>0.120</td>\n",
       "      <td>-0.146</td>\n",
       "      <td>-0.006</td>\n",
       "      <td>0.471</td>\n",
       "    </tr>\n",
       "    <tr>\n",
       "      <th>mean_value_of_short_term_variability</th>\n",
       "      <td>-0.280</td>\n",
       "      <td>0.207</td>\n",
       "      <td>0.121</td>\n",
       "      <td>0.290</td>\n",
       "      <td>0.562</td>\n",
       "      <td>0.034</td>\n",
       "      <td>0.267</td>\n",
       "      <td>-0.431</td>\n",
       "      <td>1.000</td>\n",
       "      <td>-0.470</td>\n",
       "      <td>...</td>\n",
       "      <td>-0.623</td>\n",
       "      <td>0.409</td>\n",
       "      <td>0.501</td>\n",
       "      <td>0.266</td>\n",
       "      <td>-0.308</td>\n",
       "      <td>-0.445</td>\n",
       "      <td>-0.336</td>\n",
       "      <td>0.556</td>\n",
       "      <td>-0.066</td>\n",
       "      <td>-0.103</td>\n",
       "    </tr>\n",
       "    <tr>\n",
       "      <th>percentage_of_time_with_abnormal_long_term_variability</th>\n",
       "      <td>0.286</td>\n",
       "      <td>-0.374</td>\n",
       "      <td>-0.074</td>\n",
       "      <td>-0.307</td>\n",
       "      <td>-0.271</td>\n",
       "      <td>-0.031</td>\n",
       "      <td>-0.137</td>\n",
       "      <td>0.459</td>\n",
       "      <td>-0.470</td>\n",
       "      <td>1.000</td>\n",
       "      <td>...</td>\n",
       "      <td>0.423</td>\n",
       "      <td>-0.283</td>\n",
       "      <td>-0.279</td>\n",
       "      <td>-0.122</td>\n",
       "      <td>0.165</td>\n",
       "      <td>0.222</td>\n",
       "      <td>0.186</td>\n",
       "      <td>-0.282</td>\n",
       "      <td>0.042</td>\n",
       "      <td>0.426</td>\n",
       "    </tr>\n",
       "    <tr>\n",
       "      <th>mean_value_of_long_term_variability</th>\n",
       "      <td>-0.032</td>\n",
       "      <td>-0.142</td>\n",
       "      <td>0.011</td>\n",
       "      <td>-0.066</td>\n",
       "      <td>-0.243</td>\n",
       "      <td>-0.038</td>\n",
       "      <td>-0.227</td>\n",
       "      <td>-0.315</td>\n",
       "      <td>0.074</td>\n",
       "      <td>-0.171</td>\n",
       "      <td>...</td>\n",
       "      <td>-0.145</td>\n",
       "      <td>0.002</td>\n",
       "      <td>0.056</td>\n",
       "      <td>0.124</td>\n",
       "      <td>0.072</td>\n",
       "      <td>0.138</td>\n",
       "      <td>0.063</td>\n",
       "      <td>-0.164</td>\n",
       "      <td>0.153</td>\n",
       "      <td>-0.227</td>\n",
       "    </tr>\n",
       "    <tr>\n",
       "      <th>histogram_width</th>\n",
       "      <td>-0.148</td>\n",
       "      <td>0.299</td>\n",
       "      <td>0.163</td>\n",
       "      <td>0.143</td>\n",
       "      <td>0.520</td>\n",
       "      <td>0.045</td>\n",
       "      <td>0.265</td>\n",
       "      <td>-0.260</td>\n",
       "      <td>0.661</td>\n",
       "      <td>-0.451</td>\n",
       "      <td>...</td>\n",
       "      <td>-0.899</td>\n",
       "      <td>0.691</td>\n",
       "      <td>0.747</td>\n",
       "      <td>0.317</td>\n",
       "      <td>-0.159</td>\n",
       "      <td>-0.281</td>\n",
       "      <td>-0.169</td>\n",
       "      <td>0.616</td>\n",
       "      <td>0.118</td>\n",
       "      <td>-0.069</td>\n",
       "    </tr>\n",
       "    <tr>\n",
       "      <th>histogram_min</th>\n",
       "      <td>0.362</td>\n",
       "      <td>-0.154</td>\n",
       "      <td>-0.154</td>\n",
       "      <td>-0.113</td>\n",
       "      <td>-0.554</td>\n",
       "      <td>-0.072</td>\n",
       "      <td>-0.277</td>\n",
       "      <td>0.275</td>\n",
       "      <td>-0.623</td>\n",
       "      <td>0.423</td>\n",
       "      <td>...</td>\n",
       "      <td>1.000</td>\n",
       "      <td>-0.303</td>\n",
       "      <td>-0.670</td>\n",
       "      <td>-0.307</td>\n",
       "      <td>0.353</td>\n",
       "      <td>0.486</td>\n",
       "      <td>0.400</td>\n",
       "      <td>-0.545</td>\n",
       "      <td>-0.243</td>\n",
       "      <td>0.063</td>\n",
       "    </tr>\n",
       "    <tr>\n",
       "      <th>histogram_max</th>\n",
       "      <td>0.275</td>\n",
       "      <td>0.394</td>\n",
       "      <td>0.100</td>\n",
       "      <td>0.123</td>\n",
       "      <td>0.218</td>\n",
       "      <td>-0.021</td>\n",
       "      <td>0.120</td>\n",
       "      <td>-0.112</td>\n",
       "      <td>0.409</td>\n",
       "      <td>-0.283</td>\n",
       "      <td>...</td>\n",
       "      <td>-0.303</td>\n",
       "      <td>1.000</td>\n",
       "      <td>0.518</td>\n",
       "      <td>0.184</td>\n",
       "      <td>0.236</td>\n",
       "      <td>0.191</td>\n",
       "      <td>0.293</td>\n",
       "      <td>0.439</td>\n",
       "      <td>-0.143</td>\n",
       "      <td>-0.045</td>\n",
       "    </tr>\n",
       "    <tr>\n",
       "      <th>histogram_number_of_peaks</th>\n",
       "      <td>-0.114</td>\n",
       "      <td>0.190</td>\n",
       "      <td>0.165</td>\n",
       "      <td>0.083</td>\n",
       "      <td>0.398</td>\n",
       "      <td>0.007</td>\n",
       "      <td>0.223</td>\n",
       "      <td>-0.168</td>\n",
       "      <td>0.501</td>\n",
       "      <td>-0.279</td>\n",
       "      <td>...</td>\n",
       "      <td>-0.670</td>\n",
       "      <td>0.518</td>\n",
       "      <td>1.000</td>\n",
       "      <td>0.289</td>\n",
       "      <td>-0.100</td>\n",
       "      <td>-0.217</td>\n",
       "      <td>-0.123</td>\n",
       "      <td>0.454</td>\n",
       "      <td>0.110</td>\n",
       "      <td>-0.024</td>\n",
       "    </tr>\n",
       "    <tr>\n",
       "      <th>histogram_number_of_zeroes</th>\n",
       "      <td>-0.005</td>\n",
       "      <td>-0.006</td>\n",
       "      <td>-0.018</td>\n",
       "      <td>0.058</td>\n",
       "      <td>0.235</td>\n",
       "      <td>0.043</td>\n",
       "      <td>0.056</td>\n",
       "      <td>-0.149</td>\n",
       "      <td>0.266</td>\n",
       "      <td>-0.122</td>\n",
       "      <td>...</td>\n",
       "      <td>-0.307</td>\n",
       "      <td>0.184</td>\n",
       "      <td>0.289</td>\n",
       "      <td>1.000</td>\n",
       "      <td>-0.058</td>\n",
       "      <td>-0.084</td>\n",
       "      <td>-0.053</td>\n",
       "      <td>0.197</td>\n",
       "      <td>0.085</td>\n",
       "      <td>-0.017</td>\n",
       "    </tr>\n",
       "    <tr>\n",
       "      <th>histogram_mode</th>\n",
       "      <td>0.709</td>\n",
       "      <td>0.244</td>\n",
       "      <td>-0.061</td>\n",
       "      <td>-0.105</td>\n",
       "      <td>-0.347</td>\n",
       "      <td>-0.215</td>\n",
       "      <td>-0.436</td>\n",
       "      <td>0.058</td>\n",
       "      <td>-0.308</td>\n",
       "      <td>0.165</td>\n",
       "      <td>...</td>\n",
       "      <td>0.353</td>\n",
       "      <td>0.236</td>\n",
       "      <td>-0.100</td>\n",
       "      <td>-0.058</td>\n",
       "      <td>1.000</td>\n",
       "      <td>0.893</td>\n",
       "      <td>0.933</td>\n",
       "      <td>-0.313</td>\n",
       "      <td>0.416</td>\n",
       "      <td>-0.250</td>\n",
       "    </tr>\n",
       "    <tr>\n",
       "      <th>histogram_mean</th>\n",
       "      <td>0.723</td>\n",
       "      <td>0.270</td>\n",
       "      <td>-0.090</td>\n",
       "      <td>-0.188</td>\n",
       "      <td>-0.527</td>\n",
       "      <td>-0.159</td>\n",
       "      <td>-0.489</td>\n",
       "      <td>0.075</td>\n",
       "      <td>-0.445</td>\n",
       "      <td>0.222</td>\n",
       "      <td>...</td>\n",
       "      <td>0.486</td>\n",
       "      <td>0.191</td>\n",
       "      <td>-0.217</td>\n",
       "      <td>-0.084</td>\n",
       "      <td>0.893</td>\n",
       "      <td>1.000</td>\n",
       "      <td>0.948</td>\n",
       "      <td>-0.399</td>\n",
       "      <td>0.327</td>\n",
       "      <td>-0.227</td>\n",
       "    </tr>\n",
       "    <tr>\n",
       "      <th>histogram_median</th>\n",
       "      <td>0.789</td>\n",
       "      <td>0.273</td>\n",
       "      <td>-0.072</td>\n",
       "      <td>-0.140</td>\n",
       "      <td>-0.389</td>\n",
       "      <td>-0.160</td>\n",
       "      <td>-0.445</td>\n",
       "      <td>0.120</td>\n",
       "      <td>-0.336</td>\n",
       "      <td>0.186</td>\n",
       "      <td>...</td>\n",
       "      <td>0.400</td>\n",
       "      <td>0.293</td>\n",
       "      <td>-0.123</td>\n",
       "      <td>-0.053</td>\n",
       "      <td>0.933</td>\n",
       "      <td>0.948</td>\n",
       "      <td>1.000</td>\n",
       "      <td>-0.294</td>\n",
       "      <td>0.389</td>\n",
       "      <td>-0.205</td>\n",
       "    </tr>\n",
       "    <tr>\n",
       "      <th>histogram_variance</th>\n",
       "      <td>-0.134</td>\n",
       "      <td>0.126</td>\n",
       "      <td>0.179</td>\n",
       "      <td>0.239</td>\n",
       "      <td>0.564</td>\n",
       "      <td>0.136</td>\n",
       "      <td>0.503</td>\n",
       "      <td>-0.146</td>\n",
       "      <td>0.556</td>\n",
       "      <td>-0.282</td>\n",
       "      <td>...</td>\n",
       "      <td>-0.545</td>\n",
       "      <td>0.439</td>\n",
       "      <td>0.454</td>\n",
       "      <td>0.197</td>\n",
       "      <td>-0.313</td>\n",
       "      <td>-0.399</td>\n",
       "      <td>-0.294</td>\n",
       "      <td>1.000</td>\n",
       "      <td>-0.078</td>\n",
       "      <td>0.207</td>\n",
       "    </tr>\n",
       "    <tr>\n",
       "      <th>histogram_tendency</th>\n",
       "      <td>0.294</td>\n",
       "      <td>0.028</td>\n",
       "      <td>-0.002</td>\n",
       "      <td>-0.072</td>\n",
       "      <td>0.000</td>\n",
       "      <td>-0.070</td>\n",
       "      <td>-0.215</td>\n",
       "      <td>-0.006</td>\n",
       "      <td>-0.066</td>\n",
       "      <td>0.042</td>\n",
       "      <td>...</td>\n",
       "      <td>-0.243</td>\n",
       "      <td>-0.143</td>\n",
       "      <td>0.110</td>\n",
       "      <td>0.085</td>\n",
       "      <td>0.416</td>\n",
       "      <td>0.327</td>\n",
       "      <td>0.389</td>\n",
       "      <td>-0.078</td>\n",
       "      <td>1.000</td>\n",
       "      <td>-0.132</td>\n",
       "    </tr>\n",
       "    <tr>\n",
       "      <th>fetal_health</th>\n",
       "      <td>0.148</td>\n",
       "      <td>-0.364</td>\n",
       "      <td>0.088</td>\n",
       "      <td>-0.205</td>\n",
       "      <td>0.059</td>\n",
       "      <td>0.132</td>\n",
       "      <td>0.485</td>\n",
       "      <td>0.471</td>\n",
       "      <td>-0.103</td>\n",
       "      <td>0.426</td>\n",
       "      <td>...</td>\n",
       "      <td>0.063</td>\n",
       "      <td>-0.045</td>\n",
       "      <td>-0.024</td>\n",
       "      <td>-0.017</td>\n",
       "      <td>-0.250</td>\n",
       "      <td>-0.227</td>\n",
       "      <td>-0.205</td>\n",
       "      <td>0.207</td>\n",
       "      <td>-0.132</td>\n",
       "      <td>1.000</td>\n",
       "    </tr>\n",
       "  </tbody>\n",
       "</table>\n",
       "<p>22 rows × 22 columns</p>\n",
       "</div>"
      ],
      "text/plain": [
       "                                                    baseline_value  \\\n",
       "baseline_value                                               1.000   \n",
       "accelerations                                               -0.081   \n",
       "fetal_movement                                              -0.033   \n",
       "uterine_contractions                                        -0.146   \n",
       "light_decelerations                                         -0.159   \n",
       "severe_decelerations                                        -0.054   \n",
       "prolonged_decelerations                                     -0.105   \n",
       "abnormal_short_term_variability                              0.306   \n",
       "mean_value_of_short_term_variability                        -0.280   \n",
       "percentage_of_time_with_abnormal_long_term_vari...           0.286   \n",
       "mean_value_of_long_term_variability                         -0.032   \n",
       "histogram_width                                             -0.148   \n",
       "histogram_min                                                0.362   \n",
       "histogram_max                                                0.275   \n",
       "histogram_number_of_peaks                                   -0.114   \n",
       "histogram_number_of_zeroes                                  -0.005   \n",
       "histogram_mode                                               0.709   \n",
       "histogram_mean                                               0.723   \n",
       "histogram_median                                             0.789   \n",
       "histogram_variance                                          -0.134   \n",
       "histogram_tendency                                           0.294   \n",
       "fetal_health                                                 0.148   \n",
       "\n",
       "                                                    accelerations  \\\n",
       "baseline_value                                             -0.081   \n",
       "accelerations                                               1.000   \n",
       "fetal_movement                                              0.048   \n",
       "uterine_contractions                                        0.090   \n",
       "light_decelerations                                        -0.109   \n",
       "severe_decelerations                                       -0.043   \n",
       "prolonged_decelerations                                    -0.128   \n",
       "abnormal_short_term_variability                            -0.280   \n",
       "mean_value_of_short_term_variability                        0.207   \n",
       "percentage_of_time_with_abnormal_long_term_vari...         -0.374   \n",
       "mean_value_of_long_term_variability                        -0.142   \n",
       "histogram_width                                             0.299   \n",
       "histogram_min                                              -0.154   \n",
       "histogram_max                                               0.394   \n",
       "histogram_number_of_peaks                                   0.190   \n",
       "histogram_number_of_zeroes                                 -0.006   \n",
       "histogram_mode                                              0.244   \n",
       "histogram_mean                                              0.270   \n",
       "histogram_median                                            0.273   \n",
       "histogram_variance                                          0.126   \n",
       "histogram_tendency                                          0.028   \n",
       "fetal_health                                               -0.364   \n",
       "\n",
       "                                                    fetal_movement  \\\n",
       "baseline_value                                              -0.033   \n",
       "accelerations                                                0.048   \n",
       "fetal_movement                                               1.000   \n",
       "uterine_contractions                                        -0.069   \n",
       "light_decelerations                                          0.049   \n",
       "severe_decelerations                                        -0.011   \n",
       "prolonged_decelerations                                      0.266   \n",
       "abnormal_short_term_variability                             -0.104   \n",
       "mean_value_of_short_term_variability                         0.121   \n",
       "percentage_of_time_with_abnormal_long_term_vari...          -0.074   \n",
       "mean_value_of_long_term_variability                          0.011   \n",
       "histogram_width                                              0.163   \n",
       "histogram_min                                               -0.154   \n",
       "histogram_max                                                0.100   \n",
       "histogram_number_of_peaks                                    0.165   \n",
       "histogram_number_of_zeroes                                  -0.018   \n",
       "histogram_mode                                              -0.061   \n",
       "histogram_mean                                              -0.090   \n",
       "histogram_median                                            -0.072   \n",
       "histogram_variance                                           0.179   \n",
       "histogram_tendency                                          -0.002   \n",
       "fetal_health                                                 0.088   \n",
       "\n",
       "                                                    uterine_contractions  \\\n",
       "baseline_value                                                    -0.146   \n",
       "accelerations                                                      0.090   \n",
       "fetal_movement                                                    -0.069   \n",
       "uterine_contractions                                               1.000   \n",
       "light_decelerations                                                0.285   \n",
       "severe_decelerations                                               0.007   \n",
       "prolonged_decelerations                                            0.077   \n",
       "abnormal_short_term_variability                                   -0.233   \n",
       "mean_value_of_short_term_variability                               0.290   \n",
       "percentage_of_time_with_abnormal_long_term_vari...                -0.307   \n",
       "mean_value_of_long_term_variability                               -0.066   \n",
       "histogram_width                                                    0.143   \n",
       "histogram_min                                                     -0.113   \n",
       "histogram_max                                                      0.123   \n",
       "histogram_number_of_peaks                                          0.083   \n",
       "histogram_number_of_zeroes                                         0.058   \n",
       "histogram_mode                                                    -0.105   \n",
       "histogram_mean                                                    -0.188   \n",
       "histogram_median                                                  -0.140   \n",
       "histogram_variance                                                 0.239   \n",
       "histogram_tendency                                                -0.072   \n",
       "fetal_health                                                      -0.205   \n",
       "\n",
       "                                                    light_decelerations  \\\n",
       "baseline_value                                                   -0.159   \n",
       "accelerations                                                    -0.109   \n",
       "fetal_movement                                                    0.049   \n",
       "uterine_contractions                                              0.285   \n",
       "light_decelerations                                               1.000   \n",
       "severe_decelerations                                              0.108   \n",
       "prolonged_decelerations                                           0.226   \n",
       "abnormal_short_term_variability                                  -0.119   \n",
       "mean_value_of_short_term_variability                              0.562   \n",
       "percentage_of_time_with_abnormal_long_term_vari...               -0.271   \n",
       "mean_value_of_long_term_variability                              -0.243   \n",
       "histogram_width                                                   0.520   \n",
       "histogram_min                                                    -0.554   \n",
       "histogram_max                                                     0.218   \n",
       "histogram_number_of_peaks                                         0.398   \n",
       "histogram_number_of_zeroes                                        0.235   \n",
       "histogram_mode                                                   -0.347   \n",
       "histogram_mean                                                   -0.527   \n",
       "histogram_median                                                 -0.389   \n",
       "histogram_variance                                                0.564   \n",
       "histogram_tendency                                                0.000   \n",
       "fetal_health                                                      0.059   \n",
       "\n",
       "                                                    severe_decelerations  \\\n",
       "baseline_value                                                    -0.054   \n",
       "accelerations                                                     -0.043   \n",
       "fetal_movement                                                    -0.011   \n",
       "uterine_contractions                                               0.007   \n",
       "light_decelerations                                                0.108   \n",
       "severe_decelerations                                               1.000   \n",
       "prolonged_decelerations                                            0.012   \n",
       "abnormal_short_term_variability                                    0.034   \n",
       "mean_value_of_short_term_variability                               0.034   \n",
       "percentage_of_time_with_abnormal_long_term_vari...                -0.031   \n",
       "mean_value_of_long_term_variability                               -0.038   \n",
       "histogram_width                                                    0.045   \n",
       "histogram_min                                                     -0.072   \n",
       "histogram_max                                                     -0.021   \n",
       "histogram_number_of_peaks                                          0.007   \n",
       "histogram_number_of_zeroes                                         0.043   \n",
       "histogram_mode                                                    -0.215   \n",
       "histogram_mean                                                    -0.159   \n",
       "histogram_median                                                  -0.160   \n",
       "histogram_variance                                                 0.136   \n",
       "histogram_tendency                                                -0.070   \n",
       "fetal_health                                                       0.132   \n",
       "\n",
       "                                                    prolonged_decelerations  \\\n",
       "baseline_value                                                       -0.105   \n",
       "accelerations                                                        -0.128   \n",
       "fetal_movement                                                        0.266   \n",
       "uterine_contractions                                                  0.077   \n",
       "light_decelerations                                                   0.226   \n",
       "severe_decelerations                                                  0.012   \n",
       "prolonged_decelerations                                               1.000   \n",
       "abnormal_short_term_variability                                       0.046   \n",
       "mean_value_of_short_term_variability                                  0.267   \n",
       "percentage_of_time_with_abnormal_long_term_vari...                   -0.137   \n",
       "mean_value_of_long_term_variability                                  -0.227   \n",
       "histogram_width                                                       0.265   \n",
       "histogram_min                                                        -0.277   \n",
       "histogram_max                                                         0.120   \n",
       "histogram_number_of_peaks                                             0.223   \n",
       "histogram_number_of_zeroes                                            0.056   \n",
       "histogram_mode                                                       -0.436   \n",
       "histogram_mean                                                       -0.489   \n",
       "histogram_median                                                     -0.445   \n",
       "histogram_variance                                                    0.503   \n",
       "histogram_tendency                                                   -0.215   \n",
       "fetal_health                                                          0.485   \n",
       "\n",
       "                                                    abnormal_short_term_variability  \\\n",
       "baseline_value                                                                0.306   \n",
       "accelerations                                                                -0.280   \n",
       "fetal_movement                                                               -0.104   \n",
       "uterine_contractions                                                         -0.233   \n",
       "light_decelerations                                                          -0.119   \n",
       "severe_decelerations                                                          0.034   \n",
       "prolonged_decelerations                                                       0.046   \n",
       "abnormal_short_term_variability                                               1.000   \n",
       "mean_value_of_short_term_variability                                         -0.431   \n",
       "percentage_of_time_with_abnormal_long_term_vari...                            0.459   \n",
       "mean_value_of_long_term_variability                                          -0.315   \n",
       "histogram_width                                                              -0.260   \n",
       "histogram_min                                                                 0.275   \n",
       "histogram_max                                                                -0.112   \n",
       "histogram_number_of_peaks                                                    -0.168   \n",
       "histogram_number_of_zeroes                                                   -0.149   \n",
       "histogram_mode                                                                0.058   \n",
       "histogram_mean                                                                0.075   \n",
       "histogram_median                                                              0.120   \n",
       "histogram_variance                                                           -0.146   \n",
       "histogram_tendency                                                           -0.006   \n",
       "fetal_health                                                                  0.471   \n",
       "\n",
       "                                                    mean_value_of_short_term_variability  \\\n",
       "baseline_value                                                                    -0.280   \n",
       "accelerations                                                                      0.207   \n",
       "fetal_movement                                                                     0.121   \n",
       "uterine_contractions                                                               0.290   \n",
       "light_decelerations                                                                0.562   \n",
       "severe_decelerations                                                               0.034   \n",
       "prolonged_decelerations                                                            0.267   \n",
       "abnormal_short_term_variability                                                   -0.431   \n",
       "mean_value_of_short_term_variability                                               1.000   \n",
       "percentage_of_time_with_abnormal_long_term_vari...                                -0.470   \n",
       "mean_value_of_long_term_variability                                                0.074   \n",
       "histogram_width                                                                    0.661   \n",
       "histogram_min                                                                     -0.623   \n",
       "histogram_max                                                                      0.409   \n",
       "histogram_number_of_peaks                                                          0.501   \n",
       "histogram_number_of_zeroes                                                         0.266   \n",
       "histogram_mode                                                                    -0.308   \n",
       "histogram_mean                                                                    -0.445   \n",
       "histogram_median                                                                  -0.336   \n",
       "histogram_variance                                                                 0.556   \n",
       "histogram_tendency                                                                -0.066   \n",
       "fetal_health                                                                      -0.103   \n",
       "\n",
       "                                                    percentage_of_time_with_abnormal_long_term_variability  \\\n",
       "baseline_value                                                                                  0.286        \n",
       "accelerations                                                                                  -0.374        \n",
       "fetal_movement                                                                                 -0.074        \n",
       "uterine_contractions                                                                           -0.307        \n",
       "light_decelerations                                                                            -0.271        \n",
       "severe_decelerations                                                                           -0.031        \n",
       "prolonged_decelerations                                                                        -0.137        \n",
       "abnormal_short_term_variability                                                                 0.459        \n",
       "mean_value_of_short_term_variability                                                           -0.470        \n",
       "percentage_of_time_with_abnormal_long_term_vari...                                              1.000        \n",
       "mean_value_of_long_term_variability                                                            -0.171        \n",
       "histogram_width                                                                                -0.451        \n",
       "histogram_min                                                                                   0.423        \n",
       "histogram_max                                                                                  -0.283        \n",
       "histogram_number_of_peaks                                                                      -0.279        \n",
       "histogram_number_of_zeroes                                                                     -0.122        \n",
       "histogram_mode                                                                                  0.165        \n",
       "histogram_mean                                                                                  0.222        \n",
       "histogram_median                                                                                0.186        \n",
       "histogram_variance                                                                             -0.282        \n",
       "histogram_tendency                                                                              0.042        \n",
       "fetal_health                                                                                    0.426        \n",
       "\n",
       "                                                    ...  histogram_min  \\\n",
       "baseline_value                                      ...          0.362   \n",
       "accelerations                                       ...         -0.154   \n",
       "fetal_movement                                      ...         -0.154   \n",
       "uterine_contractions                                ...         -0.113   \n",
       "light_decelerations                                 ...         -0.554   \n",
       "severe_decelerations                                ...         -0.072   \n",
       "prolonged_decelerations                             ...         -0.277   \n",
       "abnormal_short_term_variability                     ...          0.275   \n",
       "mean_value_of_short_term_variability                ...         -0.623   \n",
       "percentage_of_time_with_abnormal_long_term_vari...  ...          0.423   \n",
       "mean_value_of_long_term_variability                 ...         -0.145   \n",
       "histogram_width                                     ...         -0.899   \n",
       "histogram_min                                       ...          1.000   \n",
       "histogram_max                                       ...         -0.303   \n",
       "histogram_number_of_peaks                           ...         -0.670   \n",
       "histogram_number_of_zeroes                          ...         -0.307   \n",
       "histogram_mode                                      ...          0.353   \n",
       "histogram_mean                                      ...          0.486   \n",
       "histogram_median                                    ...          0.400   \n",
       "histogram_variance                                  ...         -0.545   \n",
       "histogram_tendency                                  ...         -0.243   \n",
       "fetal_health                                        ...          0.063   \n",
       "\n",
       "                                                    histogram_max  \\\n",
       "baseline_value                                              0.275   \n",
       "accelerations                                               0.394   \n",
       "fetal_movement                                              0.100   \n",
       "uterine_contractions                                        0.123   \n",
       "light_decelerations                                         0.218   \n",
       "severe_decelerations                                       -0.021   \n",
       "prolonged_decelerations                                     0.120   \n",
       "abnormal_short_term_variability                            -0.112   \n",
       "mean_value_of_short_term_variability                        0.409   \n",
       "percentage_of_time_with_abnormal_long_term_vari...         -0.283   \n",
       "mean_value_of_long_term_variability                         0.002   \n",
       "histogram_width                                             0.691   \n",
       "histogram_min                                              -0.303   \n",
       "histogram_max                                               1.000   \n",
       "histogram_number_of_peaks                                   0.518   \n",
       "histogram_number_of_zeroes                                  0.184   \n",
       "histogram_mode                                              0.236   \n",
       "histogram_mean                                              0.191   \n",
       "histogram_median                                            0.293   \n",
       "histogram_variance                                          0.439   \n",
       "histogram_tendency                                         -0.143   \n",
       "fetal_health                                               -0.045   \n",
       "\n",
       "                                                    histogram_number_of_peaks  \\\n",
       "baseline_value                                                         -0.114   \n",
       "accelerations                                                           0.190   \n",
       "fetal_movement                                                          0.165   \n",
       "uterine_contractions                                                    0.083   \n",
       "light_decelerations                                                     0.398   \n",
       "severe_decelerations                                                    0.007   \n",
       "prolonged_decelerations                                                 0.223   \n",
       "abnormal_short_term_variability                                        -0.168   \n",
       "mean_value_of_short_term_variability                                    0.501   \n",
       "percentage_of_time_with_abnormal_long_term_vari...                     -0.279   \n",
       "mean_value_of_long_term_variability                                     0.056   \n",
       "histogram_width                                                         0.747   \n",
       "histogram_min                                                          -0.670   \n",
       "histogram_max                                                           0.518   \n",
       "histogram_number_of_peaks                                               1.000   \n",
       "histogram_number_of_zeroes                                              0.289   \n",
       "histogram_mode                                                         -0.100   \n",
       "histogram_mean                                                         -0.217   \n",
       "histogram_median                                                       -0.123   \n",
       "histogram_variance                                                      0.454   \n",
       "histogram_tendency                                                      0.110   \n",
       "fetal_health                                                           -0.024   \n",
       "\n",
       "                                                    histogram_number_of_zeroes  \\\n",
       "baseline_value                                                          -0.005   \n",
       "accelerations                                                           -0.006   \n",
       "fetal_movement                                                          -0.018   \n",
       "uterine_contractions                                                     0.058   \n",
       "light_decelerations                                                      0.235   \n",
       "severe_decelerations                                                     0.043   \n",
       "prolonged_decelerations                                                  0.056   \n",
       "abnormal_short_term_variability                                         -0.149   \n",
       "mean_value_of_short_term_variability                                     0.266   \n",
       "percentage_of_time_with_abnormal_long_term_vari...                      -0.122   \n",
       "mean_value_of_long_term_variability                                      0.124   \n",
       "histogram_width                                                          0.317   \n",
       "histogram_min                                                           -0.307   \n",
       "histogram_max                                                            0.184   \n",
       "histogram_number_of_peaks                                                0.289   \n",
       "histogram_number_of_zeroes                                               1.000   \n",
       "histogram_mode                                                          -0.058   \n",
       "histogram_mean                                                          -0.084   \n",
       "histogram_median                                                        -0.053   \n",
       "histogram_variance                                                       0.197   \n",
       "histogram_tendency                                                       0.085   \n",
       "fetal_health                                                            -0.017   \n",
       "\n",
       "                                                    histogram_mode  \\\n",
       "baseline_value                                               0.709   \n",
       "accelerations                                                0.244   \n",
       "fetal_movement                                              -0.061   \n",
       "uterine_contractions                                        -0.105   \n",
       "light_decelerations                                         -0.347   \n",
       "severe_decelerations                                        -0.215   \n",
       "prolonged_decelerations                                     -0.436   \n",
       "abnormal_short_term_variability                              0.058   \n",
       "mean_value_of_short_term_variability                        -0.308   \n",
       "percentage_of_time_with_abnormal_long_term_vari...           0.165   \n",
       "mean_value_of_long_term_variability                          0.072   \n",
       "histogram_width                                             -0.159   \n",
       "histogram_min                                                0.353   \n",
       "histogram_max                                                0.236   \n",
       "histogram_number_of_peaks                                   -0.100   \n",
       "histogram_number_of_zeroes                                  -0.058   \n",
       "histogram_mode                                               1.000   \n",
       "histogram_mean                                               0.893   \n",
       "histogram_median                                             0.933   \n",
       "histogram_variance                                          -0.313   \n",
       "histogram_tendency                                           0.416   \n",
       "fetal_health                                                -0.250   \n",
       "\n",
       "                                                    histogram_mean  \\\n",
       "baseline_value                                               0.723   \n",
       "accelerations                                                0.270   \n",
       "fetal_movement                                              -0.090   \n",
       "uterine_contractions                                        -0.188   \n",
       "light_decelerations                                         -0.527   \n",
       "severe_decelerations                                        -0.159   \n",
       "prolonged_decelerations                                     -0.489   \n",
       "abnormal_short_term_variability                              0.075   \n",
       "mean_value_of_short_term_variability                        -0.445   \n",
       "percentage_of_time_with_abnormal_long_term_vari...           0.222   \n",
       "mean_value_of_long_term_variability                          0.138   \n",
       "histogram_width                                             -0.281   \n",
       "histogram_min                                                0.486   \n",
       "histogram_max                                                0.191   \n",
       "histogram_number_of_peaks                                   -0.217   \n",
       "histogram_number_of_zeroes                                  -0.084   \n",
       "histogram_mode                                               0.893   \n",
       "histogram_mean                                               1.000   \n",
       "histogram_median                                             0.948   \n",
       "histogram_variance                                          -0.399   \n",
       "histogram_tendency                                           0.327   \n",
       "fetal_health                                                -0.227   \n",
       "\n",
       "                                                    histogram_median  \\\n",
       "baseline_value                                                 0.789   \n",
       "accelerations                                                  0.273   \n",
       "fetal_movement                                                -0.072   \n",
       "uterine_contractions                                          -0.140   \n",
       "light_decelerations                                           -0.389   \n",
       "severe_decelerations                                          -0.160   \n",
       "prolonged_decelerations                                       -0.445   \n",
       "abnormal_short_term_variability                                0.120   \n",
       "mean_value_of_short_term_variability                          -0.336   \n",
       "percentage_of_time_with_abnormal_long_term_vari...             0.186   \n",
       "mean_value_of_long_term_variability                            0.063   \n",
       "histogram_width                                               -0.169   \n",
       "histogram_min                                                  0.400   \n",
       "histogram_max                                                  0.293   \n",
       "histogram_number_of_peaks                                     -0.123   \n",
       "histogram_number_of_zeroes                                    -0.053   \n",
       "histogram_mode                                                 0.933   \n",
       "histogram_mean                                                 0.948   \n",
       "histogram_median                                               1.000   \n",
       "histogram_variance                                            -0.294   \n",
       "histogram_tendency                                             0.389   \n",
       "fetal_health                                                  -0.205   \n",
       "\n",
       "                                                    histogram_variance  \\\n",
       "baseline_value                                                  -0.134   \n",
       "accelerations                                                    0.126   \n",
       "fetal_movement                                                   0.179   \n",
       "uterine_contractions                                             0.239   \n",
       "light_decelerations                                              0.564   \n",
       "severe_decelerations                                             0.136   \n",
       "prolonged_decelerations                                          0.503   \n",
       "abnormal_short_term_variability                                 -0.146   \n",
       "mean_value_of_short_term_variability                             0.556   \n",
       "percentage_of_time_with_abnormal_long_term_vari...              -0.282   \n",
       "mean_value_of_long_term_variability                             -0.164   \n",
       "histogram_width                                                  0.616   \n",
       "histogram_min                                                   -0.545   \n",
       "histogram_max                                                    0.439   \n",
       "histogram_number_of_peaks                                        0.454   \n",
       "histogram_number_of_zeroes                                       0.197   \n",
       "histogram_mode                                                  -0.313   \n",
       "histogram_mean                                                  -0.399   \n",
       "histogram_median                                                -0.294   \n",
       "histogram_variance                                               1.000   \n",
       "histogram_tendency                                              -0.078   \n",
       "fetal_health                                                     0.207   \n",
       "\n",
       "                                                    histogram_tendency  \\\n",
       "baseline_value                                                   0.294   \n",
       "accelerations                                                    0.028   \n",
       "fetal_movement                                                  -0.002   \n",
       "uterine_contractions                                            -0.072   \n",
       "light_decelerations                                              0.000   \n",
       "severe_decelerations                                            -0.070   \n",
       "prolonged_decelerations                                         -0.215   \n",
       "abnormal_short_term_variability                                 -0.006   \n",
       "mean_value_of_short_term_variability                            -0.066   \n",
       "percentage_of_time_with_abnormal_long_term_vari...               0.042   \n",
       "mean_value_of_long_term_variability                              0.153   \n",
       "histogram_width                                                  0.118   \n",
       "histogram_min                                                   -0.243   \n",
       "histogram_max                                                   -0.143   \n",
       "histogram_number_of_peaks                                        0.110   \n",
       "histogram_number_of_zeroes                                       0.085   \n",
       "histogram_mode                                                   0.416   \n",
       "histogram_mean                                                   0.327   \n",
       "histogram_median                                                 0.389   \n",
       "histogram_variance                                              -0.078   \n",
       "histogram_tendency                                               1.000   \n",
       "fetal_health                                                    -0.132   \n",
       "\n",
       "                                                    fetal_health  \n",
       "baseline_value                                             0.148  \n",
       "accelerations                                             -0.364  \n",
       "fetal_movement                                             0.088  \n",
       "uterine_contractions                                      -0.205  \n",
       "light_decelerations                                        0.059  \n",
       "severe_decelerations                                       0.132  \n",
       "prolonged_decelerations                                    0.485  \n",
       "abnormal_short_term_variability                            0.471  \n",
       "mean_value_of_short_term_variability                      -0.103  \n",
       "percentage_of_time_with_abnormal_long_term_vari...         0.426  \n",
       "mean_value_of_long_term_variability                       -0.227  \n",
       "histogram_width                                           -0.069  \n",
       "histogram_min                                              0.063  \n",
       "histogram_max                                             -0.045  \n",
       "histogram_number_of_peaks                                 -0.024  \n",
       "histogram_number_of_zeroes                                -0.017  \n",
       "histogram_mode                                            -0.250  \n",
       "histogram_mean                                            -0.227  \n",
       "histogram_median                                          -0.205  \n",
       "histogram_variance                                         0.207  \n",
       "histogram_tendency                                        -0.132  \n",
       "fetal_health                                               1.000  \n",
       "\n",
       "[22 rows x 22 columns]"
      ]
     },
     "execution_count": 143,
     "metadata": {},
     "output_type": "execute_result"
    }
   ],
   "source": [
    "df.corr()"
   ]
  },
  {
   "cell_type": "code",
   "execution_count": 144,
   "metadata": {},
   "outputs": [
    {
     "data": {
      "image/png": "[encoded data removed]",
      "text/plain": [
       "<Figure size 864x576 with 2 Axes>"
      ]
     },
     "metadata": {
      "needs_background": "light"
     },
     "output_type": "display_data"
    }
   ],
   "source": [
    "# generate heatmap to display correlations in data\n",
    "corr = df.corr()\n",
    "fig, ax = plt.subplots(figsize=(12, 8))\n",
    "sns.heatmap(corr, annot=True, cmap=\"RdPu\");"
   ]
  },
  {
   "cell_type": "markdown",
   "metadata": {},
   "source": [
    "The feature showing the strongest correlation with fetal health is prolonged decelerations, with a correlation of 0.485. There are moderate correlations also observed between fetal health and abnormal short term variability, as well as fetal health and percentage of time with abnormal long term variability. "
   ]
  },
  {
   "cell_type": "code",
   "execution_count": 145,
   "metadata": {},
   "outputs": [],
   "source": [
    "# examining the relationship between prolonged decelerations and fetal health\n",
    "# sns.swarmplot('prolonged_decelerations','fetal_health', data=df)\n",
    "# plt.tight_layout();"
   ]
  },
  {
   "cell_type": "code",
   "execution_count": 146,
   "metadata": {
    "scrolled": true
   },
   "outputs": [
    {
     "data": {
      "image/png": "[encoded data removed]",
      "text/plain": [
       "<Figure size 432x288 with 1 Axes>"
      ]
     },
     "metadata": {
      "needs_background": "light"
     },
     "output_type": "display_data"
    }
   ],
   "source": [
    "sns.set_palette(palette='RdPu_r')\n",
    "sns.lineplot('prolonged_decelerations','fetal_health', data=df, alpha=1.0);"
   ]
  },
  {
   "cell_type": "code",
   "execution_count": 147,
   "metadata": {
    "scrolled": true
   },
   "outputs": [
    {
     "data": {
      "image/png": "[encoded data removed]",
      "text/plain": [
       "<Figure size 432x288 with 1 Axes>"
      ]
     },
     "metadata": {
      "needs_background": "light"
     },
     "output_type": "display_data"
    }
   ],
   "source": [
    "sns.set_palette(palette='RdPu')\n",
    "sns.barplot('prolonged_decelerations','fetal_health', data=df);"
   ]
  },
  {
   "cell_type": "code",
   "execution_count": 148,
   "metadata": {
    "scrolled": true
   },
   "outputs": [
    {
     "data": {
      "image/png": "[encoded data removed]",
      "text/plain": [
       "<Figure size 432x288 with 1 Axes>"
      ]
     },
     "metadata": {
      "needs_background": "light"
     },
     "output_type": "display_data"
    }
   ],
   "source": [
    "sns.set_palette(palette='RdPu_r')\n",
    "sns.distplot(df['baseline_value']);"
   ]
  },
  {
   "cell_type": "code",
   "execution_count": 149,
   "metadata": {
    "scrolled": false
   },
   "outputs": [
    {
     "data": {
      "image/png": "[encoded data removed]",
      "text/plain": [
       "<Figure size 360x360 with 6 Axes>"
      ]
     },
     "metadata": {
      "needs_background": "light"
     },
     "output_type": "display_data"
    }
   ],
   "source": [
    "sns.set_palette(palette='RdPu')\n",
    "sns.pairplot(df[['baseline_value', 'fetal_health']]);"
   ]
  },
  {
   "cell_type": "markdown",
   "metadata": {},
   "source": [
    "## Data Preparation"
   ]
  },
  {
   "cell_type": "code",
   "execution_count": 150,
   "metadata": {},
   "outputs": [
    {
     "data": {
      "text/plain": [
       "baseline_value                                            0\n",
       "accelerations                                             0\n",
       "fetal_movement                                            0\n",
       "uterine_contractions                                      0\n",
       "light_decelerations                                       0\n",
       "severe_decelerations                                      0\n",
       "prolonged_decelerations                                   0\n",
       "abnormal_short_term_variability                           0\n",
       "mean_value_of_short_term_variability                      0\n",
       "percentage_of_time_with_abnormal_long_term_variability    0\n",
       "mean_value_of_long_term_variability                       0\n",
       "histogram_width                                           0\n",
       "histogram_min                                             0\n",
       "histogram_max                                             0\n",
       "histogram_number_of_peaks                                 0\n",
       "histogram_number_of_zeroes                                0\n",
       "histogram_mode                                            0\n",
       "histogram_mean                                            0\n",
       "histogram_median                                          0\n",
       "histogram_variance                                        0\n",
       "histogram_tendency                                        0\n",
       "fetal_health                                              0\n",
       "dtype: int64"
      ]
     },
     "execution_count": 150,
     "metadata": {},
     "output_type": "execute_result"
    }
   ],
   "source": [
    "# checking for null values\n",
    "df.isnull().sum()"
   ]
  },
  {
   "cell_type": "markdown",
   "metadata": {},
   "source": [
    "This dataset had no null values to be dealt with."
   ]
  },
  {
   "cell_type": "code",
   "execution_count": 151,
   "metadata": {},
   "outputs": [
    {
     "data": {
      "text/plain": [
       "1.000    1655\n",
       "2.000     295\n",
       "3.000     176\n",
       "Name: fetal_health, dtype: int64"
      ]
     },
     "execution_count": 151,
     "metadata": {},
     "output_type": "execute_result"
    }
   ],
   "source": [
    "# checking value counts for target variable\n",
    "df.fetal_health.value_counts()"
   ]
  },
  {
   "cell_type": "code",
   "execution_count": 152,
   "metadata": {
    "scrolled": true
   },
   "outputs": [
    {
     "data": {
      "image/png": "[encoded data removed]",
      "text/plain": [
       "<Figure size 432x288 with 1 Axes>"
      ]
     },
     "metadata": {
      "needs_background": "light"
     },
     "output_type": "display_data"
    }
   ],
   "source": [
    "# plotting target variable frequencies\n",
    "df.fetal_health.hist();"
   ]
  },
  {
   "cell_type": "markdown",
   "metadata": {},
   "source": [
    "### Feature Engineering\n",
    "The target class, fetal health, is very unbalanced. The majority of the fetal health outcomes observed in this dataset are 1.00, which is the designation for Normal fetal health. The class with the second-highest frequency is the 2.00 or Suspect fetal health class. The class with the lowest frequency in this dataset is 3.00 or Pathological fetal health.  \n",
    "To make the data slightly easier to work with and understand, and turn this into a binary classification problem, I combined the 2.00 and 3.00 classes of Suspect and Pathological fetal health into a category called At Risk. I designated all the values of 1.00 as Normal."
   ]
  },
  {
   "cell_type": "code",
   "execution_count": 153,
   "metadata": {},
   "outputs": [],
   "source": [
    "# engineering new categorical target column for Normal and At Risk fetal health\n",
    "df.loc[df['fetal_health']==1.000, 'fh_outcome'] = 'Normal'\n",
    "df.loc[df['fetal_health']==2.000, 'fh_outcome'] = 'At Risk'\n",
    "df.loc[df['fetal_health']==3.000, 'fh_outcome'] = 'At Risk'"
   ]
  },
  {
   "cell_type": "markdown",
   "metadata": {},
   "source": [
    "I then removed the original fetal_health column from the dataframe."
   ]
  },
  {
   "cell_type": "code",
   "execution_count": 154,
   "metadata": {},
   "outputs": [],
   "source": [
    "df = df.drop(columns='fetal_health', axis=1)"
   ]
  },
  {
   "cell_type": "code",
   "execution_count": 155,
   "metadata": {
    "scrolled": true
   },
   "outputs": [
    {
     "data": {
      "text/html": [
       "<div>\n",
       "<style scoped>\n",
       "    .dataframe tbody tr th:only-of-type {\n",
       "        vertical-align: middle;\n",
       "    }\n",
       "\n",
       "    .dataframe tbody tr th {\n",
       "        vertical-align: top;\n",
       "    }\n",
       "\n",
       "    .dataframe thead th {\n",
       "        text-align: right;\n",
       "    }\n",
       "</style>\n",
       "<table border=\"1\" class=\"dataframe\">\n",
       "  <thead>\n",
       "    <tr style=\"text-align: right;\">\n",
       "      <th></th>\n",
       "      <th>baseline_value</th>\n",
       "      <th>accelerations</th>\n",
       "      <th>fetal_movement</th>\n",
       "      <th>uterine_contractions</th>\n",
       "      <th>light_decelerations</th>\n",
       "      <th>severe_decelerations</th>\n",
       "      <th>prolonged_decelerations</th>\n",
       "      <th>abnormal_short_term_variability</th>\n",
       "      <th>mean_value_of_short_term_variability</th>\n",
       "      <th>percentage_of_time_with_abnormal_long_term_variability</th>\n",
       "      <th>...</th>\n",
       "      <th>histogram_min</th>\n",
       "      <th>histogram_max</th>\n",
       "      <th>histogram_number_of_peaks</th>\n",
       "      <th>histogram_number_of_zeroes</th>\n",
       "      <th>histogram_mode</th>\n",
       "      <th>histogram_mean</th>\n",
       "      <th>histogram_median</th>\n",
       "      <th>histogram_variance</th>\n",
       "      <th>histogram_tendency</th>\n",
       "      <th>fh_outcome</th>\n",
       "    </tr>\n",
       "  </thead>\n",
       "  <tbody>\n",
       "    <tr>\n",
       "      <th>0</th>\n",
       "      <td>120.000</td>\n",
       "      <td>0.000</td>\n",
       "      <td>0.000</td>\n",
       "      <td>0.000</td>\n",
       "      <td>0.000</td>\n",
       "      <td>0.000</td>\n",
       "      <td>0.000</td>\n",
       "      <td>73.000</td>\n",
       "      <td>0.500</td>\n",
       "      <td>43.000</td>\n",
       "      <td>...</td>\n",
       "      <td>62.000</td>\n",
       "      <td>126.000</td>\n",
       "      <td>2.000</td>\n",
       "      <td>0.000</td>\n",
       "      <td>120.000</td>\n",
       "      <td>137.000</td>\n",
       "      <td>121.000</td>\n",
       "      <td>73.000</td>\n",
       "      <td>1.000</td>\n",
       "      <td>At Risk</td>\n",
       "    </tr>\n",
       "    <tr>\n",
       "      <th>1</th>\n",
       "      <td>132.000</td>\n",
       "      <td>0.006</td>\n",
       "      <td>0.000</td>\n",
       "      <td>0.006</td>\n",
       "      <td>0.003</td>\n",
       "      <td>0.000</td>\n",
       "      <td>0.000</td>\n",
       "      <td>17.000</td>\n",
       "      <td>2.100</td>\n",
       "      <td>0.000</td>\n",
       "      <td>...</td>\n",
       "      <td>68.000</td>\n",
       "      <td>198.000</td>\n",
       "      <td>6.000</td>\n",
       "      <td>1.000</td>\n",
       "      <td>141.000</td>\n",
       "      <td>136.000</td>\n",
       "      <td>140.000</td>\n",
       "      <td>12.000</td>\n",
       "      <td>0.000</td>\n",
       "      <td>Normal</td>\n",
       "    </tr>\n",
       "    <tr>\n",
       "      <th>2</th>\n",
       "      <td>133.000</td>\n",
       "      <td>0.003</td>\n",
       "      <td>0.000</td>\n",
       "      <td>0.008</td>\n",
       "      <td>0.003</td>\n",
       "      <td>0.000</td>\n",
       "      <td>0.000</td>\n",
       "      <td>16.000</td>\n",
       "      <td>2.100</td>\n",
       "      <td>0.000</td>\n",
       "      <td>...</td>\n",
       "      <td>68.000</td>\n",
       "      <td>198.000</td>\n",
       "      <td>5.000</td>\n",
       "      <td>1.000</td>\n",
       "      <td>141.000</td>\n",
       "      <td>135.000</td>\n",
       "      <td>138.000</td>\n",
       "      <td>13.000</td>\n",
       "      <td>0.000</td>\n",
       "      <td>Normal</td>\n",
       "    </tr>\n",
       "    <tr>\n",
       "      <th>3</th>\n",
       "      <td>134.000</td>\n",
       "      <td>0.003</td>\n",
       "      <td>0.000</td>\n",
       "      <td>0.008</td>\n",
       "      <td>0.003</td>\n",
       "      <td>0.000</td>\n",
       "      <td>0.000</td>\n",
       "      <td>16.000</td>\n",
       "      <td>2.400</td>\n",
       "      <td>0.000</td>\n",
       "      <td>...</td>\n",
       "      <td>53.000</td>\n",
       "      <td>170.000</td>\n",
       "      <td>11.000</td>\n",
       "      <td>0.000</td>\n",
       "      <td>137.000</td>\n",
       "      <td>134.000</td>\n",
       "      <td>137.000</td>\n",
       "      <td>13.000</td>\n",
       "      <td>1.000</td>\n",
       "      <td>Normal</td>\n",
       "    </tr>\n",
       "    <tr>\n",
       "      <th>4</th>\n",
       "      <td>132.000</td>\n",
       "      <td>0.007</td>\n",
       "      <td>0.000</td>\n",
       "      <td>0.008</td>\n",
       "      <td>0.000</td>\n",
       "      <td>0.000</td>\n",
       "      <td>0.000</td>\n",
       "      <td>16.000</td>\n",
       "      <td>2.400</td>\n",
       "      <td>0.000</td>\n",
       "      <td>...</td>\n",
       "      <td>53.000</td>\n",
       "      <td>170.000</td>\n",
       "      <td>9.000</td>\n",
       "      <td>0.000</td>\n",
       "      <td>137.000</td>\n",
       "      <td>136.000</td>\n",
       "      <td>138.000</td>\n",
       "      <td>11.000</td>\n",
       "      <td>1.000</td>\n",
       "      <td>Normal</td>\n",
       "    </tr>\n",
       "  </tbody>\n",
       "</table>\n",
       "<p>5 rows × 22 columns</p>\n",
       "</div>"
      ],
      "text/plain": [
       "   baseline_value  accelerations  fetal_movement  uterine_contractions  \\\n",
       "0         120.000          0.000           0.000                 0.000   \n",
       "1         132.000          0.006           0.000                 0.006   \n",
       "2         133.000          0.003           0.000                 0.008   \n",
       "3         134.000          0.003           0.000                 0.008   \n",
       "4         132.000          0.007           0.000                 0.008   \n",
       "\n",
       "   light_decelerations  severe_decelerations  prolonged_decelerations  \\\n",
       "0                0.000                 0.000                    0.000   \n",
       "1                0.003                 0.000                    0.000   \n",
       "2                0.003                 0.000                    0.000   \n",
       "3                0.003                 0.000                    0.000   \n",
       "4                0.000                 0.000                    0.000   \n",
       "\n",
       "   abnormal_short_term_variability  mean_value_of_short_term_variability  \\\n",
       "0                           73.000                                 0.500   \n",
       "1                           17.000                                 2.100   \n",
       "2                           16.000                                 2.100   \n",
       "3                           16.000                                 2.400   \n",
       "4                           16.000                                 2.400   \n",
       "\n",
       "   percentage_of_time_with_abnormal_long_term_variability  ...  histogram_min  \\\n",
       "0                                             43.000       ...         62.000   \n",
       "1                                              0.000       ...         68.000   \n",
       "2                                              0.000       ...         68.000   \n",
       "3                                              0.000       ...         53.000   \n",
       "4                                              0.000       ...         53.000   \n",
       "\n",
       "   histogram_max  histogram_number_of_peaks  histogram_number_of_zeroes  \\\n",
       "0        126.000                      2.000                       0.000   \n",
       "1        198.000                      6.000                       1.000   \n",
       "2        198.000                      5.000                       1.000   \n",
       "3        170.000                     11.000                       0.000   \n",
       "4        170.000                      9.000                       0.000   \n",
       "\n",
       "   histogram_mode  histogram_mean  histogram_median  histogram_variance  \\\n",
       "0         120.000         137.000           121.000              73.000   \n",
       "1         141.000         136.000           140.000              12.000   \n",
       "2         141.000         135.000           138.000              13.000   \n",
       "3         137.000         134.000           137.000              13.000   \n",
       "4         137.000         136.000           138.000              11.000   \n",
       "\n",
       "   histogram_tendency  fh_outcome  \n",
       "0               1.000     At Risk  \n",
       "1               0.000      Normal  \n",
       "2               0.000      Normal  \n",
       "3               1.000      Normal  \n",
       "4               1.000      Normal  \n",
       "\n",
       "[5 rows x 22 columns]"
      ]
     },
     "execution_count": 155,
     "metadata": {},
     "output_type": "execute_result"
    }
   ],
   "source": [
    "df.head()"
   ]
  },
  {
   "cell_type": "code",
   "execution_count": 156,
   "metadata": {},
   "outputs": [
    {
     "data": {
      "text/plain": [
       "Normal     1655\n",
       "At Risk     471\n",
       "Name: fh_outcome, dtype: int64"
      ]
     },
     "execution_count": 156,
     "metadata": {},
     "output_type": "execute_result"
    }
   ],
   "source": [
    "df.fh_outcome.value_counts()"
   ]
  },
  {
   "cell_type": "code",
   "execution_count": 157,
   "metadata": {
    "scrolled": true
   },
   "outputs": [
    {
     "data": {
      "image/png": "[encoded data removed]",
      "text/plain": [
       "<Figure size 432x288 with 1 Axes>"
      ]
     },
     "metadata": {
      "needs_background": "light"
     },
     "output_type": "display_data"
    }
   ],
   "source": [
    "df.fh_outcome.hist();"
   ]
  },
  {
   "cell_type": "markdown",
   "metadata": {},
   "source": [
    "This is still very unbalanced, but is somewhat more straightforward."
   ]
  },
  {
   "cell_type": "markdown",
   "metadata": {},
   "source": [
    "### Encoding"
   ]
  },
  {
   "cell_type": "code",
   "execution_count": 158,
   "metadata": {},
   "outputs": [
    {
     "data": {
      "text/plain": [
       "baseline_value                                            float64\n",
       "accelerations                                             float64\n",
       "fetal_movement                                            float64\n",
       "uterine_contractions                                      float64\n",
       "light_decelerations                                       float64\n",
       "severe_decelerations                                      float64\n",
       "prolonged_decelerations                                   float64\n",
       "abnormal_short_term_variability                           float64\n",
       "mean_value_of_short_term_variability                      float64\n",
       "percentage_of_time_with_abnormal_long_term_variability    float64\n",
       "mean_value_of_long_term_variability                       float64\n",
       "histogram_width                                           float64\n",
       "histogram_min                                             float64\n",
       "histogram_max                                             float64\n",
       "histogram_number_of_peaks                                 float64\n",
       "histogram_number_of_zeroes                                float64\n",
       "histogram_mode                                            float64\n",
       "histogram_mean                                            float64\n",
       "histogram_median                                          float64\n",
       "histogram_variance                                        float64\n",
       "histogram_tendency                                        float64\n",
       "fh_outcome                                                 object\n",
       "dtype: object"
      ]
     },
     "execution_count": 158,
     "metadata": {},
     "output_type": "execute_result"
    }
   ],
   "source": [
    "df.dtypes"
   ]
  },
  {
   "cell_type": "markdown",
   "metadata": {},
   "source": [
    "Every feature in the CTG data was already numerical (float) so there was not much encoding necessary, aside from the target variable. With that being said, I opted to tackle the encoding of the target variable using pd.get_dummies along with manual column dropping to ensure that I could control which class was considered positive (1) and which class was considered negative (0) in the evaluation stage."
   ]
  },
  {
   "cell_type": "code",
   "execution_count": 159,
   "metadata": {},
   "outputs": [
    {
     "data": {
      "text/html": [
       "<div>\n",
       "<style scoped>\n",
       "    .dataframe tbody tr th:only-of-type {\n",
       "        vertical-align: middle;\n",
       "    }\n",
       "\n",
       "    .dataframe tbody tr th {\n",
       "        vertical-align: top;\n",
       "    }\n",
       "\n",
       "    .dataframe thead th {\n",
       "        text-align: right;\n",
       "    }\n",
       "</style>\n",
       "<table border=\"1\" class=\"dataframe\">\n",
       "  <thead>\n",
       "    <tr style=\"text-align: right;\">\n",
       "      <th></th>\n",
       "      <th>baseline_value</th>\n",
       "      <th>accelerations</th>\n",
       "      <th>fetal_movement</th>\n",
       "      <th>uterine_contractions</th>\n",
       "      <th>light_decelerations</th>\n",
       "      <th>severe_decelerations</th>\n",
       "      <th>prolonged_decelerations</th>\n",
       "      <th>abnormal_short_term_variability</th>\n",
       "      <th>mean_value_of_short_term_variability</th>\n",
       "      <th>percentage_of_time_with_abnormal_long_term_variability</th>\n",
       "      <th>...</th>\n",
       "      <th>histogram_max</th>\n",
       "      <th>histogram_number_of_peaks</th>\n",
       "      <th>histogram_number_of_zeroes</th>\n",
       "      <th>histogram_mode</th>\n",
       "      <th>histogram_mean</th>\n",
       "      <th>histogram_median</th>\n",
       "      <th>histogram_variance</th>\n",
       "      <th>histogram_tendency</th>\n",
       "      <th>fh_outcome_At Risk</th>\n",
       "      <th>fh_outcome_Normal</th>\n",
       "    </tr>\n",
       "  </thead>\n",
       "  <tbody>\n",
       "    <tr>\n",
       "      <th>0</th>\n",
       "      <td>120.000</td>\n",
       "      <td>0.000</td>\n",
       "      <td>0.000</td>\n",
       "      <td>0.000</td>\n",
       "      <td>0.000</td>\n",
       "      <td>0.000</td>\n",
       "      <td>0.000</td>\n",
       "      <td>73.000</td>\n",
       "      <td>0.500</td>\n",
       "      <td>43.000</td>\n",
       "      <td>...</td>\n",
       "      <td>126.000</td>\n",
       "      <td>2.000</td>\n",
       "      <td>0.000</td>\n",
       "      <td>120.000</td>\n",
       "      <td>137.000</td>\n",
       "      <td>121.000</td>\n",
       "      <td>73.000</td>\n",
       "      <td>1.000</td>\n",
       "      <td>1</td>\n",
       "      <td>0</td>\n",
       "    </tr>\n",
       "    <tr>\n",
       "      <th>1</th>\n",
       "      <td>132.000</td>\n",
       "      <td>0.006</td>\n",
       "      <td>0.000</td>\n",
       "      <td>0.006</td>\n",
       "      <td>0.003</td>\n",
       "      <td>0.000</td>\n",
       "      <td>0.000</td>\n",
       "      <td>17.000</td>\n",
       "      <td>2.100</td>\n",
       "      <td>0.000</td>\n",
       "      <td>...</td>\n",
       "      <td>198.000</td>\n",
       "      <td>6.000</td>\n",
       "      <td>1.000</td>\n",
       "      <td>141.000</td>\n",
       "      <td>136.000</td>\n",
       "      <td>140.000</td>\n",
       "      <td>12.000</td>\n",
       "      <td>0.000</td>\n",
       "      <td>0</td>\n",
       "      <td>1</td>\n",
       "    </tr>\n",
       "    <tr>\n",
       "      <th>2</th>\n",
       "      <td>133.000</td>\n",
       "      <td>0.003</td>\n",
       "      <td>0.000</td>\n",
       "      <td>0.008</td>\n",
       "      <td>0.003</td>\n",
       "      <td>0.000</td>\n",
       "      <td>0.000</td>\n",
       "      <td>16.000</td>\n",
       "      <td>2.100</td>\n",
       "      <td>0.000</td>\n",
       "      <td>...</td>\n",
       "      <td>198.000</td>\n",
       "      <td>5.000</td>\n",
       "      <td>1.000</td>\n",
       "      <td>141.000</td>\n",
       "      <td>135.000</td>\n",
       "      <td>138.000</td>\n",
       "      <td>13.000</td>\n",
       "      <td>0.000</td>\n",
       "      <td>0</td>\n",
       "      <td>1</td>\n",
       "    </tr>\n",
       "    <tr>\n",
       "      <th>3</th>\n",
       "      <td>134.000</td>\n",
       "      <td>0.003</td>\n",
       "      <td>0.000</td>\n",
       "      <td>0.008</td>\n",
       "      <td>0.003</td>\n",
       "      <td>0.000</td>\n",
       "      <td>0.000</td>\n",
       "      <td>16.000</td>\n",
       "      <td>2.400</td>\n",
       "      <td>0.000</td>\n",
       "      <td>...</td>\n",
       "      <td>170.000</td>\n",
       "      <td>11.000</td>\n",
       "      <td>0.000</td>\n",
       "      <td>137.000</td>\n",
       "      <td>134.000</td>\n",
       "      <td>137.000</td>\n",
       "      <td>13.000</td>\n",
       "      <td>1.000</td>\n",
       "      <td>0</td>\n",
       "      <td>1</td>\n",
       "    </tr>\n",
       "    <tr>\n",
       "      <th>4</th>\n",
       "      <td>132.000</td>\n",
       "      <td>0.007</td>\n",
       "      <td>0.000</td>\n",
       "      <td>0.008</td>\n",
       "      <td>0.000</td>\n",
       "      <td>0.000</td>\n",
       "      <td>0.000</td>\n",
       "      <td>16.000</td>\n",
       "      <td>2.400</td>\n",
       "      <td>0.000</td>\n",
       "      <td>...</td>\n",
       "      <td>170.000</td>\n",
       "      <td>9.000</td>\n",
       "      <td>0.000</td>\n",
       "      <td>137.000</td>\n",
       "      <td>136.000</td>\n",
       "      <td>138.000</td>\n",
       "      <td>11.000</td>\n",
       "      <td>1.000</td>\n",
       "      <td>0</td>\n",
       "      <td>1</td>\n",
       "    </tr>\n",
       "  </tbody>\n",
       "</table>\n",
       "<p>5 rows × 44 columns</p>\n",
       "</div>"
      ],
      "text/plain": [
       "   baseline_value  accelerations  fetal_movement  uterine_contractions  \\\n",
       "0         120.000          0.000           0.000                 0.000   \n",
       "1         132.000          0.006           0.000                 0.006   \n",
       "2         133.000          0.003           0.000                 0.008   \n",
       "3         134.000          0.003           0.000                 0.008   \n",
       "4         132.000          0.007           0.000                 0.008   \n",
       "\n",
       "   light_decelerations  severe_decelerations  prolonged_decelerations  \\\n",
       "0                0.000                 0.000                    0.000   \n",
       "1                0.003                 0.000                    0.000   \n",
       "2                0.003                 0.000                    0.000   \n",
       "3                0.003                 0.000                    0.000   \n",
       "4                0.000                 0.000                    0.000   \n",
       "\n",
       "   abnormal_short_term_variability  mean_value_of_short_term_variability  \\\n",
       "0                           73.000                                 0.500   \n",
       "1                           17.000                                 2.100   \n",
       "2                           16.000                                 2.100   \n",
       "3                           16.000                                 2.400   \n",
       "4                           16.000                                 2.400   \n",
       "\n",
       "   percentage_of_time_with_abnormal_long_term_variability  ...  histogram_max  \\\n",
       "0                                             43.000       ...        126.000   \n",
       "1                                              0.000       ...        198.000   \n",
       "2                                              0.000       ...        198.000   \n",
       "3                                              0.000       ...        170.000   \n",
       "4                                              0.000       ...        170.000   \n",
       "\n",
       "   histogram_number_of_peaks  histogram_number_of_zeroes  histogram_mode  \\\n",
       "0                      2.000                       0.000         120.000   \n",
       "1                      6.000                       1.000         141.000   \n",
       "2                      5.000                       1.000         141.000   \n",
       "3                     11.000                       0.000         137.000   \n",
       "4                      9.000                       0.000         137.000   \n",
       "\n",
       "   histogram_mean  histogram_median  histogram_variance  histogram_tendency  \\\n",
       "0         137.000           121.000              73.000               1.000   \n",
       "1         136.000           140.000              12.000               0.000   \n",
       "2         135.000           138.000              13.000               0.000   \n",
       "3         134.000           137.000              13.000               1.000   \n",
       "4         136.000           138.000              11.000               1.000   \n",
       "\n",
       "   fh_outcome_At Risk  fh_outcome_Normal  \n",
       "0                   1                  0  \n",
       "1                   0                  1  \n",
       "2                   0                  1  \n",
       "3                   0                  1  \n",
       "4                   0                  1  \n",
       "\n",
       "[5 rows x 44 columns]"
      ]
     },
     "execution_count": 159,
     "metadata": {},
     "output_type": "execute_result"
    }
   ],
   "source": [
    "# generate binary values using get_dummies\n",
    "dum_df = pd.get_dummies(df, columns=['fh_outcome'])\n",
    "# merge with main df\n",
    "df = df.drop(columns=['fh_outcome'], axis=1)\n",
    "df = pd.concat([df, dum_df], axis=1)\n",
    "df.head()"
   ]
  },
  {
   "cell_type": "code",
   "execution_count": 160,
   "metadata": {
    "scrolled": true
   },
   "outputs": [
    {
     "data": {
      "text/html": [
       "<div>\n",
       "<style scoped>\n",
       "    .dataframe tbody tr th:only-of-type {\n",
       "        vertical-align: middle;\n",
       "    }\n",
       "\n",
       "    .dataframe tbody tr th {\n",
       "        vertical-align: top;\n",
       "    }\n",
       "\n",
       "    .dataframe thead th {\n",
       "        text-align: right;\n",
       "    }\n",
       "</style>\n",
       "<table border=\"1\" class=\"dataframe\">\n",
       "  <thead>\n",
       "    <tr style=\"text-align: right;\">\n",
       "      <th></th>\n",
       "      <th>baseline_value</th>\n",
       "      <th>accelerations</th>\n",
       "      <th>fetal_movement</th>\n",
       "      <th>uterine_contractions</th>\n",
       "      <th>light_decelerations</th>\n",
       "      <th>severe_decelerations</th>\n",
       "      <th>prolonged_decelerations</th>\n",
       "      <th>abnormal_short_term_variability</th>\n",
       "      <th>mean_value_of_short_term_variability</th>\n",
       "      <th>percentage_of_time_with_abnormal_long_term_variability</th>\n",
       "      <th>...</th>\n",
       "      <th>histogram_min</th>\n",
       "      <th>histogram_max</th>\n",
       "      <th>histogram_number_of_peaks</th>\n",
       "      <th>histogram_number_of_zeroes</th>\n",
       "      <th>histogram_mode</th>\n",
       "      <th>histogram_mean</th>\n",
       "      <th>histogram_median</th>\n",
       "      <th>histogram_variance</th>\n",
       "      <th>histogram_tendency</th>\n",
       "      <th>fh_outcome_At Risk</th>\n",
       "    </tr>\n",
       "  </thead>\n",
       "  <tbody>\n",
       "    <tr>\n",
       "      <th>0</th>\n",
       "      <td>120.000</td>\n",
       "      <td>0.000</td>\n",
       "      <td>0.000</td>\n",
       "      <td>0.000</td>\n",
       "      <td>0.000</td>\n",
       "      <td>0.000</td>\n",
       "      <td>0.000</td>\n",
       "      <td>73.000</td>\n",
       "      <td>0.500</td>\n",
       "      <td>43.000</td>\n",
       "      <td>...</td>\n",
       "      <td>62.000</td>\n",
       "      <td>126.000</td>\n",
       "      <td>2.000</td>\n",
       "      <td>0.000</td>\n",
       "      <td>120.000</td>\n",
       "      <td>137.000</td>\n",
       "      <td>121.000</td>\n",
       "      <td>73.000</td>\n",
       "      <td>1.000</td>\n",
       "      <td>1</td>\n",
       "    </tr>\n",
       "    <tr>\n",
       "      <th>1</th>\n",
       "      <td>132.000</td>\n",
       "      <td>0.006</td>\n",
       "      <td>0.000</td>\n",
       "      <td>0.006</td>\n",
       "      <td>0.003</td>\n",
       "      <td>0.000</td>\n",
       "      <td>0.000</td>\n",
       "      <td>17.000</td>\n",
       "      <td>2.100</td>\n",
       "      <td>0.000</td>\n",
       "      <td>...</td>\n",
       "      <td>68.000</td>\n",
       "      <td>198.000</td>\n",
       "      <td>6.000</td>\n",
       "      <td>1.000</td>\n",
       "      <td>141.000</td>\n",
       "      <td>136.000</td>\n",
       "      <td>140.000</td>\n",
       "      <td>12.000</td>\n",
       "      <td>0.000</td>\n",
       "      <td>0</td>\n",
       "    </tr>\n",
       "    <tr>\n",
       "      <th>2</th>\n",
       "      <td>133.000</td>\n",
       "      <td>0.003</td>\n",
       "      <td>0.000</td>\n",
       "      <td>0.008</td>\n",
       "      <td>0.003</td>\n",
       "      <td>0.000</td>\n",
       "      <td>0.000</td>\n",
       "      <td>16.000</td>\n",
       "      <td>2.100</td>\n",
       "      <td>0.000</td>\n",
       "      <td>...</td>\n",
       "      <td>68.000</td>\n",
       "      <td>198.000</td>\n",
       "      <td>5.000</td>\n",
       "      <td>1.000</td>\n",
       "      <td>141.000</td>\n",
       "      <td>135.000</td>\n",
       "      <td>138.000</td>\n",
       "      <td>13.000</td>\n",
       "      <td>0.000</td>\n",
       "      <td>0</td>\n",
       "    </tr>\n",
       "    <tr>\n",
       "      <th>3</th>\n",
       "      <td>134.000</td>\n",
       "      <td>0.003</td>\n",
       "      <td>0.000</td>\n",
       "      <td>0.008</td>\n",
       "      <td>0.003</td>\n",
       "      <td>0.000</td>\n",
       "      <td>0.000</td>\n",
       "      <td>16.000</td>\n",
       "      <td>2.400</td>\n",
       "      <td>0.000</td>\n",
       "      <td>...</td>\n",
       "      <td>53.000</td>\n",
       "      <td>170.000</td>\n",
       "      <td>11.000</td>\n",
       "      <td>0.000</td>\n",
       "      <td>137.000</td>\n",
       "      <td>134.000</td>\n",
       "      <td>137.000</td>\n",
       "      <td>13.000</td>\n",
       "      <td>1.000</td>\n",
       "      <td>0</td>\n",
       "    </tr>\n",
       "    <tr>\n",
       "      <th>4</th>\n",
       "      <td>132.000</td>\n",
       "      <td>0.007</td>\n",
       "      <td>0.000</td>\n",
       "      <td>0.008</td>\n",
       "      <td>0.000</td>\n",
       "      <td>0.000</td>\n",
       "      <td>0.000</td>\n",
       "      <td>16.000</td>\n",
       "      <td>2.400</td>\n",
       "      <td>0.000</td>\n",
       "      <td>...</td>\n",
       "      <td>53.000</td>\n",
       "      <td>170.000</td>\n",
       "      <td>9.000</td>\n",
       "      <td>0.000</td>\n",
       "      <td>137.000</td>\n",
       "      <td>136.000</td>\n",
       "      <td>138.000</td>\n",
       "      <td>11.000</td>\n",
       "      <td>1.000</td>\n",
       "      <td>0</td>\n",
       "    </tr>\n",
       "  </tbody>\n",
       "</table>\n",
       "<p>5 rows × 43 columns</p>\n",
       "</div>"
      ],
      "text/plain": [
       "   baseline_value  accelerations  fetal_movement  uterine_contractions  \\\n",
       "0         120.000          0.000           0.000                 0.000   \n",
       "1         132.000          0.006           0.000                 0.006   \n",
       "2         133.000          0.003           0.000                 0.008   \n",
       "3         134.000          0.003           0.000                 0.008   \n",
       "4         132.000          0.007           0.000                 0.008   \n",
       "\n",
       "   light_decelerations  severe_decelerations  prolonged_decelerations  \\\n",
       "0                0.000                 0.000                    0.000   \n",
       "1                0.003                 0.000                    0.000   \n",
       "2                0.003                 0.000                    0.000   \n",
       "3                0.003                 0.000                    0.000   \n",
       "4                0.000                 0.000                    0.000   \n",
       "\n",
       "   abnormal_short_term_variability  mean_value_of_short_term_variability  \\\n",
       "0                           73.000                                 0.500   \n",
       "1                           17.000                                 2.100   \n",
       "2                           16.000                                 2.100   \n",
       "3                           16.000                                 2.400   \n",
       "4                           16.000                                 2.400   \n",
       "\n",
       "   percentage_of_time_with_abnormal_long_term_variability  ...  histogram_min  \\\n",
       "0                                             43.000       ...         62.000   \n",
       "1                                              0.000       ...         68.000   \n",
       "2                                              0.000       ...         68.000   \n",
       "3                                              0.000       ...         53.000   \n",
       "4                                              0.000       ...         53.000   \n",
       "\n",
       "   histogram_max  histogram_number_of_peaks  histogram_number_of_zeroes  \\\n",
       "0        126.000                      2.000                       0.000   \n",
       "1        198.000                      6.000                       1.000   \n",
       "2        198.000                      5.000                       1.000   \n",
       "3        170.000                     11.000                       0.000   \n",
       "4        170.000                      9.000                       0.000   \n",
       "\n",
       "   histogram_mode  histogram_mean  histogram_median  histogram_variance  \\\n",
       "0         120.000         137.000           121.000              73.000   \n",
       "1         141.000         136.000           140.000              12.000   \n",
       "2         141.000         135.000           138.000              13.000   \n",
       "3         137.000         134.000           137.000              13.000   \n",
       "4         137.000         136.000           138.000              11.000   \n",
       "\n",
       "   histogram_tendency  fh_outcome_At Risk  \n",
       "0               1.000                   1  \n",
       "1               0.000                   0  \n",
       "2               0.000                   0  \n",
       "3               1.000                   0  \n",
       "4               1.000                   0  \n",
       "\n",
       "[5 rows x 43 columns]"
      ]
     },
     "execution_count": 160,
     "metadata": {},
     "output_type": "execute_result"
    }
   ],
   "source": [
    "df = df.drop(columns=['fh_outcome_Normal'], axis=1)\n",
    "df.head()"
   ]
  },
  {
   "cell_type": "code",
   "execution_count": 161,
   "metadata": {
    "scrolled": true
   },
   "outputs": [
    {
     "data": {
      "text/plain": [
       "0    1655\n",
       "1     471\n",
       "Name: fh_outcome_At Risk, dtype: int64"
      ]
     },
     "execution_count": 161,
     "metadata": {},
     "output_type": "execute_result"
    }
   ],
   "source": [
    "df['fh_outcome_At Risk'].value_counts()"
   ]
  },
  {
   "cell_type": "code",
   "execution_count": 162,
   "metadata": {
    "scrolled": true
   },
   "outputs": [
    {
     "data": {
      "text/plain": [
       "0    1655\n",
       "1     471\n",
       "Name: target, dtype: int64"
      ]
     },
     "execution_count": 162,
     "metadata": {},
     "output_type": "execute_result"
    }
   ],
   "source": [
    "df = df.rename(columns={'fh_outcome_At Risk':'target'})\n",
    "df.target.value_counts()"
   ]
  },
  {
   "cell_type": "markdown",
   "metadata": {},
   "source": [
    "## Modeling"
   ]
  },
  {
   "cell_type": "markdown",
   "metadata": {},
   "source": [
    "### Baseline Model"
   ]
  },
  {
   "cell_type": "markdown",
   "metadata": {},
   "source": [
    "I began with a baseline \"vanilla\" model. I used a Decision Tree since they are known to work well with imbalanced data, such as my target fetal health variable. "
   ]
  },
  {
   "cell_type": "code",
   "execution_count": 191,
   "metadata": {},
   "outputs": [],
   "source": [
    "# setting target and features\n",
    "y = df['target']\n",
    "X = df.drop(columns='target')\n",
    "\n",
    "# splitting the data into train and test sets\n",
    "X_train, X_test, y_train, y_test = train_test_split(X, y, test_size=0.3, stratify=y, random_state=42)"
   ]
  },
  {
   "cell_type": "code",
   "execution_count": 192,
   "metadata": {},
   "outputs": [
    {
     "data": {
      "text/plain": [
       "DecisionTreeClassifier(max_depth=5, random_state=42)"
      ]
     },
     "execution_count": 192,
     "metadata": {},
     "output_type": "execute_result"
    }
   ],
   "source": [
    "# instantiating and fitting decision tree model\n",
    "tree_clf = DecisionTreeClassifier(criterion='gini', max_depth=5, random_state=42) \n",
    "tree_clf.fit(X_train, y_train)"
   ]
  },
  {
   "cell_type": "code",
   "execution_count": 193,
   "metadata": {},
   "outputs": [
    {
     "name": "stdout",
     "output_type": "stream",
     "text": [
      "[[482  15]\n",
      " [ 32 109]]\n",
      "              precision    recall  f1-score   support\n",
      "\n",
      "           0       0.94      0.97      0.95       497\n",
      "           1       0.88      0.77      0.82       141\n",
      "\n",
      "    accuracy                           0.93       638\n",
      "   macro avg       0.91      0.87      0.89       638\n",
      "weighted avg       0.92      0.93      0.92       638\n",
      "\n",
      "Recall score:  0.7730496453900709\n"
     ]
    }
   ],
   "source": [
    "y_pred = tree_clf.predict(X_test)\n",
    "\n",
    "# confusion matrix and classification report\n",
    "print(confusion_matrix(y_test, y_pred))\n",
    "print(classification_report(y_test, y_pred))\n",
    "print('Recall score: ',recall_score(y_test, y_pred))"
   ]
  },
  {
   "cell_type": "code",
   "execution_count": 194,
   "metadata": {
    "scrolled": false
   },
   "outputs": [
    {
     "data": {
      "image/png": "[encoded data removed]",
      "text/plain": [
       "<Figure size 432x288 with 2 Axes>"
      ]
     },
     "metadata": {
      "needs_background": "light"
     },
     "output_type": "display_data"
    }
   ],
   "source": [
    "# plotting confusion matrix\n",
    "plot_confusion_matrix(tree_clf, X_test, y_test,cmap=\"RdPu\")\n",
    "plt.show()"
   ]
  },
  {
   "cell_type": "markdown",
   "metadata": {},
   "source": [
    "While an accuracy of 93% sounds like a good metric, it is important to note that this model missed 32 members of the at-risk fetal health class. Since we are dealing with the health outcomes and lives of babies, this is simply not acceptable. I will be evaluating my models with a focus on recall/sensitivity in order to minimize false negatives or Type II errors. In this case, the baseline recall value is 77%."
   ]
  },
  {
   "cell_type": "code",
   "execution_count": 168,
   "metadata": {},
   "outputs": [
    {
     "data": {
      "image/png": "[encoded data removed]",
      "text/plain": [
       "<Figure size 576x576 with 1 Axes>"
      ]
     },
     "metadata": {
      "needs_background": "light"
     },
     "output_type": "display_data"
    }
   ],
   "source": [
    "# plotting feature importances\n",
    "def plot_feature_importances(model):\n",
    "    n_features = X_train.shape[1]\n",
    "    plt.figure(figsize=(8,8))\n",
    "    plt.barh(range(n_features), model.feature_importances_, align='center') \n",
    "    plt.yticks(np.arange(n_features), X_train.columns.values) \n",
    "    plt.xlabel('Feature Importance')\n",
    "    plt.ylabel('Feature')\n",
    "\n",
    "plot_feature_importances(tree_clf)"
   ]
  },
  {
   "cell_type": "markdown",
   "metadata": {},
   "source": [
    "The baseline decision tree model has allotted the most importance to abnormal short-term and long-term variability of fetal heart rate, as well as CTG histogram mean. Given the strong correlations noted earlier, it is not surprising that the classifier prioritized these particular features."
   ]
  },
  {
   "cell_type": "markdown",
   "metadata": {},
   "source": [
    "### Dealing With Imbalanced Classes"
   ]
  },
  {
   "cell_type": "markdown",
   "metadata": {},
   "source": [
    "As explored previously, the fetal health outcome classes are quite imbalanced, with the majority being the negative (normal health) class. To address this, I once again ran the baseline decision tree model, but with the class_weight parameter set to \"balanced\". This adjusts so total weights are equal accross classes; in other words, members of the negative (normal health) class will be given less weight than members of the positive (at-risk) class. I opted to address this imbalance in this way so as not to sacrifice any data (as occurs in undersampling) or overfit to any duplicates from oversampling."
   ]
  },
  {
   "cell_type": "code",
   "execution_count": 195,
   "metadata": {},
   "outputs": [
    {
     "data": {
      "text/plain": [
       "DecisionTreeClassifier(class_weight='balanced', max_depth=5, random_state=42)"
      ]
     },
     "execution_count": 195,
     "metadata": {},
     "output_type": "execute_result"
    }
   ],
   "source": [
    "# instantiating and fitting decision tree model\n",
    "tree_clf = DecisionTreeClassifier(criterion='gini', max_depth=5, class_weight='balanced', random_state=42) \n",
    "tree_clf.fit(X_train, y_train)"
   ]
  },
  {
   "cell_type": "code",
   "execution_count": 196,
   "metadata": {
    "scrolled": true
   },
   "outputs": [
    {
     "name": "stdout",
     "output_type": "stream",
     "text": [
      "[[463  34]\n",
      " [ 23 118]]\n",
      "              precision    recall  f1-score   support\n",
      "\n",
      "           0       0.95      0.93      0.94       497\n",
      "           1       0.78      0.84      0.81       141\n",
      "\n",
      "    accuracy                           0.91       638\n",
      "   macro avg       0.86      0.88      0.87       638\n",
      "weighted avg       0.91      0.91      0.91       638\n",
      "\n",
      "Recall score:  0.8368794326241135\n"
     ]
    }
   ],
   "source": [
    "y_pred = tree_clf.predict(X_test)\n",
    "\n",
    "# confusion matrix and classification report\n",
    "print(confusion_matrix(y_test, y_pred))\n",
    "print(classification_report(y_test, y_pred))\n",
    "print('Recall score: ',recall_score(y_test, y_pred))"
   ]
  },
  {
   "cell_type": "code",
   "execution_count": 197,
   "metadata": {},
   "outputs": [
    {
     "data": {
      "image/png": "[encoded data removed]",
      "text/plain": [
       "<Figure size 432x288 with 2 Axes>"
      ]
     },
     "metadata": {
      "needs_background": "light"
     },
     "output_type": "display_data"
    }
   ],
   "source": [
    "# plotting confusion matrix\n",
    "plot_confusion_matrix(tree_clf, X_test, y_test,cmap=\"RdPu\")\n",
    "plt.show()"
   ]
  },
  {
   "cell_type": "markdown",
   "metadata": {},
   "source": [
    "After balancing the class weights, the model has been improved to a recall value of 84%. But it still missed 23 of the at-risk class, so it requires further improvement."
   ]
  },
  {
   "cell_type": "markdown",
   "metadata": {},
   "source": [
    "### Exploring Models With Pipelines & Grid Search\n",
    "#### Preparing Functions and Generic Parameters\n",
    "Now that I had my baseline model with which to compare future iterations, I opted to streamline the modeling process with sklearn pipelines and GridSearchCV to help choose the best hyperparamters for optimized recall. I began by writing a function to create a pipeline given a classifier."
   ]
  },
  {
   "cell_type": "code",
   "execution_count": 203,
   "metadata": {},
   "outputs": [],
   "source": [
    "# function to make a pipeline with classifier input\n",
    "def pipe_maker(classifier):\n",
    "    pipe = Pipeline([('scl', StandardScaler()),\n",
    "                    ('clf', classifier(class_weight= 'balanced', random_state=42))])\n",
    "    return pipe"
   ]
  },
  {
   "cell_type": "markdown",
   "metadata": {},
   "source": [
    "I then wrote a function to create a grid search using a pipeline and predetermined paramaters."
   ]
  },
  {
   "cell_type": "code",
   "execution_count": 224,
   "metadata": {},
   "outputs": [],
   "source": [
    "# function to create a grid search containing pipeline\n",
    "def gridsearch_maker(pipeline, params):\n",
    "    return GridSearchCV(estimator=pipeline,\n",
    "                        param_grid=params,\n",
    "                        scoring='recall',\n",
    "                        cv=10,\n",
    "                        n_jobs=-1)"
   ]
  },
  {
   "cell_type": "code",
   "execution_count": 225,
   "metadata": {},
   "outputs": [],
   "source": [
    "# setting generic grid search parameters\n",
    "param_range = [1, 2, 3, 4, 5, 6, 7, 8, 9, 10]\n",
    "param_range_small = [1.0, 0.5, 0.1]"
   ]
  },
  {
   "cell_type": "markdown",
   "metadata": {},
   "source": [
    "I then wrote a function to find the best hyperparameters to optimize recall for a given model, print the classification report for the model with the best parameters, and print the confusion matrix for this model as well."
   ]
  },
  {
   "cell_type": "code",
   "execution_count": 226,
   "metadata": {},
   "outputs": [],
   "source": [
    "def find_best_recall(gridsearch):\n",
    "    \"\"\" \n",
    "    Runs a grid search iterating through predefined grid params and returns best params to optimize recall score. \n",
    "  \n",
    "    Fits classifier to X_train and y_train.\n",
    "    Determines and prints best params for recall.\n",
    "    Determines and prints best training set recall.\n",
    "    Predicts on test data using best params.\n",
    "    Prints best test set recall.\n",
    "    Prints classification report for best model.\n",
    "    Plots confusion matrix for best model.\n",
    "  \n",
    "    Parameters: \n",
    "    gridsearch: Predefined instance of GridsearchCV with parameters and estimator/pipeline already set.\n",
    "  \n",
    "    Returns: \n",
    "    Best parameters for particular grid search, based on recall score.\n",
    "    Best training set recall.\n",
    "    Best test set recall.\n",
    "    Classification report for best model.\n",
    "    Confusion matrix for best model.\n",
    "  \n",
    "    \"\"\"\n",
    "    # fitting the grid search objects\n",
    "    best_recall = 0.0\n",
    "    # fitting grid search\n",
    "    gridsearch.fit(X_train, y_train)\n",
    "    # best params\n",
    "    print('Best params: %s' % gridsearch.best_params_)\n",
    "    # best training data recall\n",
    "    print('Best training recall: %.3f' % gridsearch.best_score_)\n",
    "    # predict on test data with best params\n",
    "    y_pred = gridsearch.predict(X_test)\n",
    "    # test data recall with best params\n",
    "    print('Test set recall score for best params: %.3f ' % recall_score(y_test, y_pred))\n",
    "    # confusion matrix and classification report\n",
    "    print(confusion_matrix(y_test, y_pred))\n",
    "    print(classification_report(y_test, y_pred))\n",
    "    print('Recall score: ',recall_score(y_test, y_pred))\n",
    "    # plotting confusion matrix\n",
    "    plot_confusion_matrix(gridsearch, X_test, y_test,cmap=\"RdPu\")\n",
    "    plt.show()"
   ]
  },
  {
   "cell_type": "markdown",
   "metadata": {},
   "source": [
    "#### Applying Functions to Create Models"
   ]
  },
  {
   "cell_type": "markdown",
   "metadata": {},
   "source": [
    "I began with fitting a logistic regression model, optimized with a pipeline and grid search."
   ]
  },
  {
   "cell_type": "code",
   "execution_count": 227,
   "metadata": {},
   "outputs": [
    {
     "name": "stdout",
     "output_type": "stream",
     "text": [
      "Best params: {'clf__C': 0.1, 'clf__penalty': 'l1', 'clf__solver': 'liblinear'}\n",
      "Best training recall: 0.927\n",
      "Test set recall score for best params: 0.922 \n",
      "[[419  78]\n",
      " [ 11 130]]\n",
      "              precision    recall  f1-score   support\n",
      "\n",
      "           0       0.97      0.84      0.90       497\n",
      "           1       0.62      0.92      0.74       141\n",
      "\n",
      "    accuracy                           0.86       638\n",
      "   macro avg       0.80      0.88      0.82       638\n",
      "weighted avg       0.90      0.86      0.87       638\n",
      "\n",
      "Recall score:  0.9219858156028369\n"
     ]
    },
    {
     "data": {
      "image/png": "[encoded data removed]",
      "text/plain": [
       "<Figure size 432x288 with 2 Axes>"
      ]
     },
     "metadata": {
      "needs_background": "light"
     },
     "output_type": "display_data"
    }
   ],
   "source": [
    "# fitting Logistic Regression pipeline\n",
    "pipe_lr = pipe_maker(LogisticRegression)\n",
    "\n",
    "# setting grid search parameters\n",
    "grid_params_lr = [{'clf__penalty': ['l1', 'l2'],\n",
    "                   'clf__C': param_range_small,\n",
    "                   'clf__solver': ['liblinear']}]\n",
    "\n",
    "# creating grid search object\n",
    "gs_lr = gridsearch_maker(pipe_lr, grid_params_lr)\n",
    "\n",
    "# finding best parameters for recall\n",
    "find_best_recall(gs_lr)"
   ]
  },
  {
   "cell_type": "markdown",
   "metadata": {},
   "source": [
    "According to my grid search, a logistic regression model with best parameters was good, with a best recall score of 92%."
   ]
  },
  {
   "cell_type": "code",
   "execution_count": 222,
   "metadata": {},
   "outputs": [
    {
     "name": "stdout",
     "output_type": "stream",
     "text": [
      "Best params: {'clf__criterion': 'gini', 'clf__max_depth': 6, 'clf__min_samples_leaf': 9, 'clf__min_samples_split': 2}\n",
      "Best training recall: 0.918\n",
      "Test set recall score for best params: 0.936 \n"
     ]
    }
   ],
   "source": [
    "# fitting Random Forest pipeline\n",
    "pipe_rf = pipe_maker(RandomForestClassifier)\n",
    "\n",
    "# setting grid search parameters\n",
    "grid_params_rf = [{'clf__criterion': ['gini', 'entropy'],\n",
    "                   'clf__min_samples_leaf': param_range,\n",
    "                   'clf__max_depth': param_range,\n",
    "                   'clf__min_samples_split': param_range[1:]}]\n",
    "\n",
    "# creating grid search object\n",
    "gs_rf = gridsearch_maker(pipe_rf, grid_params_rf)\n",
    "\n",
    "# finding best parameters for recall\n",
    "find_best_recall(gs_rf)"
   ]
  },
  {
   "cell_type": "code",
   "execution_count": null,
   "metadata": {},
   "outputs": [],
   "source": [
    "# fitting Support Vector Machine pipeline\n",
    "pipe_svm = pipe_maker(svm.SVC)\n",
    "\n",
    "# setting grid search parameters\n",
    "grid_params_svm = [{'clf__kernel': ['linear', 'rbf'], \n",
    "                    'clf__C': param_range}]\n",
    "\n",
    "# creating grid search object\n",
    "gs_svm = gridsearch_maker(pipe_svm, grid_params_svm)\n",
    "\n",
    "# finding best parameters for recall\n",
    "find_best_recall(gs_svm)"
   ]
  },
  {
   "cell_type": "code",
   "execution_count": null,
   "metadata": {},
   "outputs": [],
   "source": [
    "# fitting Extra Trees pipeline\n",
    "pipe_et = pipe_maker(ExtraTreesClassifier)\n",
    "\n",
    "# setting grid search parameters\n",
    "grid_params_et = [{'clf__criterion': ['gini', 'entropy'],\n",
    "                   'clf__min_samples_leaf': param_range,\n",
    "                   'clf__max_depth': param_range,\n",
    "                   'clf__min_samples_split': param_range[1:]}]\n",
    "\n",
    "# creating grid search object\n",
    "gs_et = gridsearch_maker(pipe_et, grid_params_et)\n",
    "\n",
    "# finding best parameters for recall\n",
    "find_best_recall(gs_et)"
   ]
  },
  {
   "cell_type": "markdown",
   "metadata": {},
   "source": [
    "Based on my pipelines and grid searches, my best model uses the SVM algorithm with RBF kernel and a C of 7. RBF kernel (Radial Basis Function) helps to create clusters that are close together in a higher-dimensional space, with the hope that these clusters will be linearly separable. A lower C value leads to more regularization and more penalty for higher coefficients. A higher C value is the opposite.  \n",
    "\n",
    "While 88% recall on the test set is good, it is not quite as good as what I was hoping for, which is recall of 100%. My next iterations will leverage the ExtraTrees and XGboost algorithms."
   ]
  },
  {
   "cell_type": "markdown",
   "metadata": {},
   "source": [
    "#### AutoML with TPOT\n",
    "My last iteration will utilize TPOT for automated model selection and hyperparameter tuning. \"TPOT is a Python tool which automatically creates and optimizes machine learning pipelines using genetic programming. TPOT works in tandem with Scikit-learn, describing itself as a Scikit-learn wrapper. TPOT is open source, written in Python, and aimed at simplifying a machine learning process by way of an AutoML approach based on genetic programming. The end result is automated hyperparameter selection, modeling with a variety of algorithms, and exploration of numerous feature representations, all leading to iterative model building and model evaluation.\""
   ]
  },
  {
   "cell_type": "code",
   "execution_count": null,
   "metadata": {},
   "outputs": [],
   "source": [
    "# constructing and fitting TPOT classifier\n",
    "tpot = TPOTClassifier(template ='Selector-Transformer-Classifier', generations=10, verbosity=1, scoring='recall', random_state=42)\n",
    "tpot.fit(X_train, y_train)\n",
    "\n",
    "# saving best pipeline as Python script file\n",
    "tpot.export('tpot_best_pipeline.py')"
   ]
  },
  {
   "cell_type": "markdown",
   "metadata": {},
   "source": [
    "Best pipeline: BernoulliNB(RobustScaler(SelectPercentile(input_matrix, percentile=27)), alpha=100.0, fit_prior=False)"
   ]
  },
  {
   "cell_type": "code",
   "execution_count": 173,
   "metadata": {},
   "outputs": [],
   "source": [
    "# Average CV score on the training set was: 0.9361305361305362\n",
    "exported_pipeline = make_pipeline(\n",
    "    SelectPercentile(percentile=27),\n",
    "    RobustScaler(),\n",
    "    BernoulliNB(alpha=100.0, fit_prior=False)\n",
    ")\n",
    "# Fix random state for all the steps in exported pipeline\n",
    "set_param_recursive(exported_pipeline.steps, 'random_state', 42)\n",
    "\n",
    "exported_pipeline.fit(X_train, y_train)\n",
    "results = exported_pipeline.predict(X_test)"
   ]
  },
  {
   "cell_type": "code",
   "execution_count": 174,
   "metadata": {
    "scrolled": true
   },
   "outputs": [
    {
     "name": "stdout",
     "output_type": "stream",
     "text": [
      "[[357 139]\n",
      " [  4 138]]\n",
      "              precision    recall  f1-score   support\n",
      "\n",
      "           0       0.99      0.72      0.83       496\n",
      "           1       0.50      0.97      0.66       142\n",
      "\n",
      "    accuracy                           0.78       638\n",
      "   macro avg       0.74      0.85      0.75       638\n",
      "weighted avg       0.88      0.78      0.79       638\n",
      "\n",
      "Recall score:  0.971830985915493\n",
      "Accuracy score:  0.7758620689655172\n",
      "F1 score:  0.6587112171837708\n"
     ]
    }
   ],
   "source": [
    "# confusion matrix and classification report\n",
    "print(confusion_matrix(y_test, results))\n",
    "print(classification_report(y_test, results))\n",
    "print('Recall score: ',recall_score(y_test, results))\n",
    "print('Accuracy score: ',accuracy_score(y_test, results))\n",
    "print('F1 score: ',f1_score(y_test, results))"
   ]
  },
  {
   "cell_type": "code",
   "execution_count": 175,
   "metadata": {},
   "outputs": [
    {
     "data": {
      "image/png": "[encoded data removed]",
      "text/plain": [
       "<Figure size 432x288 with 2 Axes>"
      ]
     },
     "metadata": {
      "needs_background": "light"
     },
     "output_type": "display_data"
    }
   ],
   "source": [
    "# plotting confusion matrix\n",
    "plot_confusion_matrix(exported_pipeline, X_test, y_test,\n",
    "                     cmap='RdPu')\n",
    "plt.show()"
   ]
  },
  {
   "cell_type": "markdown",
   "metadata": {},
   "source": [
    "This model that was decided upon using TPOT has a recall score of 97% and only missed 4 of the At Risk class. This is the best model so far. It is based on the Bernoulli Naive Bayes algorithm."
   ]
  },
  {
   "cell_type": "markdown",
   "metadata": {},
   "source": [
    "## Evaluation and Results"
   ]
  },
  {
   "cell_type": "markdown",
   "metadata": {},
   "source": [
    "The positive class for fetal health is 'At Risk' and the negative class is 'Normal'. The objective is to minimize false negatives and err on the side of caution. Better safe than sorry! Being overly cautious is the ethical course of action when dealing with maternal-fetal health. Misclassifying a member of the 'Normal' class as 'At Risk' is a minor inconvenience (and likely a scare for the mother), but misclassifying a member of the 'At Risk' class as 'Normal' has far more serious consequences. I want to make sure that we catch every single baby that is in distress so that decisions can be made accordingly. Therefore, I will be prioritizing Recall/Sensitivity as the metric by which to evaluate the models. This will ensure that we capture all instances of the positive class, which makes this the most important metric for the problem at hand. By doing this, I will avoid false negatives or Type II errors.  \n",
    "That being said, my best model was the one using Bernoulli Naive Bayes algorithm with auto hyperparamter selection using TPOT. This model achieved a recall score of 97%. It is important to note that while there is a trade-off between recall and precision, and therefore accuracy, you simply cannot put a price on a human life. So I have chosen to prioritize recall at the expense of all other metrics for this particular problem.  \n",
    "Based on the recall/sensitivity rate of 97%, I reject the null hypothesis that there is no relationship between automated CTG data and fetal health outcome."
   ]
  },
  {
   "cell_type": "markdown",
   "metadata": {},
   "source": [
    "## Recommendations"
   ]
  },
  {
   "cell_type": "markdown",
   "metadata": {},
   "source": [
    "1. Since I have shown that automated CTG data provides an ability to predict if a fetus in-utero is in distress with a recall/sensitivity rate of 97%, my main recommendation is that CTGs be performed as often as possible on expectant mothers. This is an easy and highly interpretable way to maintain the necessary level of care to preserve maternal and fetal health. It has been posed by obstetricians as a cost-effective option for achieving the goal of reducing maternal and fetal mortality, and based on my findings, cardiotocogram readings are correlated with with fetal health outcome. \n",
    "2. I recommend that the CTG data be evaluated by both machine learning algorithms and actual obstetricians, to maximize the predictive power of the data.\n",
    "3. I recommend that any indication of at-risk fetal health be treated immediately and with great care, to maximize maternal and fetal health outcomes. Even if it is a false alarm, it is always better to be safe than sorry when it comes to fetal health.\n",
    "4. Finally, when it comes to the actual CTG data, I recommend that doctors and future ML models pay particularly close attention to the percentage of time with both short- and long-term variability in fetal heart rate (FHR) to maximize fetal health. These indicators were the two strongest indicators for at-risk outcomes. "
   ]
  },
  {
   "cell_type": "markdown",
   "metadata": {},
   "source": [
    "## Conclusion"
   ]
  },
  {
   "cell_type": "markdown",
   "metadata": {},
   "source": [
    "In conclusion, cardiotocogram data provides easily accessible and interpretable insight into fetal health outcomes. ML models are able to predict if a fetus is in distress, using CTG data, with a high level of recall/sensitivity. Between the high predictive power of these models and the expert knowledge of obstetricians, fetal and maternal health could and should be prioritized. By doing this, yearly fetal mortality rates can be effectively reduced."
   ]
  },
  {
   "cell_type": "code",
   "execution_count": 202,
   "metadata": {
    "scrolled": true
   },
   "outputs": [
    {
     "data": {
      "text/plain": [
       "Pipeline(steps=[('scl', StandardScaler()),\n",
       "                ('clf',\n",
       "                 LogisticRegression(class_weight='balanced', random_state=42))])"
      ]
     },
     "execution_count": 202,
     "metadata": {},
     "output_type": "execute_result"
    }
   ],
   "source": [
    "pipe_lr = pipe_maker(LogisticRegression)\n",
    "\n",
    "grid_params_lr = [{'clf__penalty': ['l1', 'l2'],\n",
    "                   'clf__C': param_range_small,\n",
    "                   'clf__solver': ['liblinear']}]\n",
    "\n",
    "gs_lr = GridSearchCV(estimator=pipe_lr,\n",
    "                     param_grid=grid_params_lr,\n",
    "                     scoring='recall',\n",
    "                     cv=10) "
   ]
  },
  {
   "cell_type": "code",
   "execution_count": 169,
   "metadata": {},
   "outputs": [
    {
     "name": "stdout",
     "output_type": "stream",
     "text": [
      "Performing model optimizations...\n",
      "\n",
      "Estimator: Logistic Regression\n",
      "Best params: {'clf__C': 0.5, 'clf__penalty': 'l1', 'clf__solver': 'liblinear'}\n",
      "Best training recall: 0.781\n",
      "Test set recall score for best params: 0.824 \n",
      "\n",
      "Estimator: Random Forest\n",
      "Best params: {'clf__criterion': 'entropy', 'clf__max_depth': 10, 'clf__min_samples_leaf': 2, 'clf__min_samples_split': 2}\n",
      "Best training recall: 0.842\n",
      "Test set recall score for best params: 0.859 \n",
      "\n",
      "Estimator: Support Vector Machine\n",
      "Best params: {'clf__C': 7, 'clf__kernel': 'rbf'}\n",
      "Best training recall: 0.827\n",
      "Test set recall score for best params: 0.880 \n",
      "\n",
      "Classifier with best test set recall: Support Vector Machine\n"
     ]
    }
   ],
   "source": [
    "# building pipelines\n",
    "pipe_lr = Pipeline([('scl', StandardScaler()),\n",
    "                    ('clf', LogisticRegression(random_state=42))])\n",
    "\n",
    "pipe_rf = Pipeline([('scl', StandardScaler()),\n",
    "                    ('clf', RandomForestClassifier(random_state=42))])\n",
    "\n",
    "pipe_svm = Pipeline([('scl', StandardScaler()),\n",
    "                     ('clf', svm.SVC(random_state=42))])\n",
    "\n",
    "\n",
    "# setting grid search parameters\n",
    "param_range = [1, 2, 3, 4, 5, 6, 7, 8, 9, 10]\n",
    "param_range_small = [1.0, 0.5, 0.1]\n",
    "\n",
    "grid_params_lr = [{'clf__penalty': ['l1', 'l2'],\n",
    "                   'clf__C': param_range_small,\n",
    "                   'clf__solver': ['liblinear']}] \n",
    "\n",
    "grid_params_rf = [{'clf__criterion': ['gini', 'entropy'],\n",
    "                   'clf__min_samples_leaf': param_range,\n",
    "                   'clf__max_depth': param_range,\n",
    "                   'clf__min_samples_split': param_range[1:]}]\n",
    "\n",
    "grid_params_svm = [{'clf__kernel': ['linear', 'rbf'], \n",
    "                    'clf__C': param_range}]\n",
    "\n",
    "# setting grid searches\n",
    "jobs = -1\n",
    "\n",
    "gs_lr = GridSearchCV(estimator=pipe_lr,\n",
    "                     param_grid=grid_params_lr,\n",
    "                     scoring='recall',\n",
    "                     cv=10) \n",
    "\n",
    "gs_rf = GridSearchCV(estimator=pipe_rf,\n",
    "                     param_grid=grid_params_rf,\n",
    "                     scoring='recall',\n",
    "                     cv=10, \n",
    "                     n_jobs=jobs)\n",
    "\n",
    "gs_svm = GridSearchCV(estimator=pipe_svm,\n",
    "                      param_grid=grid_params_svm,\n",
    "                      scoring='recall',\n",
    "                      cv=10,\n",
    "                      n_jobs=jobs)\n",
    "\n",
    "# list of pipelines for ease of iteration\n",
    "grids = [gs_lr, gs_rf, gs_svm]\n",
    "\n",
    "# dictionary of pipelines and classifier types for ease of reference\n",
    "grid_dict = {0: 'Logistic Regression', 1: 'Random Forest', \n",
    "             2: 'Support Vector Machine'}\n",
    "\n",
    "# fitting the grid search objects\n",
    "print('Performing model optimizations...')\n",
    "best_recall = 0.0\n",
    "best_clf = 0\n",
    "best_gs = ''\n",
    "for idx, gs in enumerate(grids):\n",
    "    print('\\nEstimator: %s' % grid_dict[idx])\n",
    "    # Fit grid search\n",
    "    gs.fit(X_train, y_train)\n",
    "    # Best params\n",
    "    print('Best params: %s' % gs.best_params_)\n",
    "    # Best training data recall\n",
    "    print('Best training recall: %.3f' % gs.best_score_)\n",
    "    # Predict on test data with best params\n",
    "    y_pred = gs.predict(X_test)\n",
    "    # Test data recall of model with best params\n",
    "    print('Test set recall score for best params: %.3f ' % recall_score(y_test, y_pred))\n",
    "    # Track best (highest test recall) model\n",
    "    if recall_score(y_test, y_pred) > best_recall:\n",
    "        best_recall = recall_score(y_test, y_pred)\n",
    "        best_gs = gs\n",
    "        best_clf = idx\n",
    "print('\\nClassifier with best test set recall: %s' % grid_dict[best_clf])"
   ]
  },
  {
   "cell_type": "code",
   "execution_count": 294,
   "metadata": {},
   "outputs": [],
   "source": [
    "# save the best pipeline\n",
    "filename = 'best_pipeline.pkl'\n",
    "pickle.dump(best_gs, open(filename, 'wb'))"
   ]
  },
  {
   "cell_type": "code",
   "execution_count": 295,
   "metadata": {},
   "outputs": [],
   "source": [
    "# Load from file\n",
    "with open(filename, 'rb') as file:\n",
    "    pickled_pipeline = pickle.load(file)"
   ]
  },
  {
   "cell_type": "code",
   "execution_count": 296,
   "metadata": {
    "scrolled": true
   },
   "outputs": [
    {
     "data": {
      "text/plain": [
       "GridSearchCV(cv=10,\n",
       "             estimator=Pipeline(steps=[('scl', StandardScaler()),\n",
       "                                       ('clf', SVC(random_state=42))]),\n",
       "             n_jobs=-1,\n",
       "             param_grid=[{'clf__C': [1, 2, 3, 4, 5, 6, 7, 8, 9, 10],\n",
       "                          'clf__kernel': ['linear', 'rbf']}],\n",
       "             scoring='recall')"
      ]
     },
     "execution_count": 296,
     "metadata": {},
     "output_type": "execute_result"
    }
   ],
   "source": [
    "pickled_pipeline"
   ]
  },
  {
   "cell_type": "markdown",
   "metadata": {},
   "source": [
    "Classifier with best test set recall: Support Vector Machine  \n",
    "Estimator: Support Vector Machine  \n",
    "Best params: {'clf__C': 7, 'clf__kernel': 'rbf'}  \n",
    "Best training recall: 0.827  \n",
    "Test set recall score for best params: 0.880"
   ]
  },
  {
   "cell_type": "code",
   "execution_count": 76,
   "metadata": {},
   "outputs": [],
   "source": [
    "best_pipeline = make_pipeline(\n",
    "    StandardScaler(),\n",
    "    SVC(C=7, kernel='rbf', random_state=42)\n",
    ")\n",
    "\n",
    "best_pipeline.fit(X_train, y_train)\n",
    "results = best_pipeline.predict(X_test)"
   ]
  },
  {
   "cell_type": "code",
   "execution_count": 77,
   "metadata": {},
   "outputs": [
    {
     "name": "stdout",
     "output_type": "stream",
     "text": [
      "[[469  27]\n",
      " [ 17 125]]\n",
      "              precision    recall  f1-score   support\n",
      "\n",
      "           0       0.97      0.95      0.96       496\n",
      "           1       0.82      0.88      0.85       142\n",
      "\n",
      "    accuracy                           0.93       638\n",
      "   macro avg       0.89      0.91      0.90       638\n",
      "weighted avg       0.93      0.93      0.93       638\n",
      "\n",
      "Recall score:  0.8802816901408451\n",
      "Accuracy score:  0.9310344827586207\n",
      "F1 score:  0.8503401360544218\n"
     ]
    }
   ],
   "source": [
    "# confusion matrix and classification report\n",
    "print(confusion_matrix(y_test, results))\n",
    "print(classification_report(y_test, results))\n",
    "print('Recall score: ',recall_score(y_test, results))\n",
    "print('Accuracy score: ',accuracy_score(y_test, results))\n",
    "print('F1 score: ',f1_score(y_test, results))"
   ]
  },
  {
   "cell_type": "code",
   "execution_count": 78,
   "metadata": {},
   "outputs": [
    {
     "data": {
      "image/png": "[encoded data removed]",
      "text/plain": [
       "<Figure size 432x288 with 2 Axes>"
      ]
     },
     "metadata": {
      "needs_background": "light"
     },
     "output_type": "display_data"
    }
   ],
   "source": [
    "# Visualize confusion matrix\n",
    "plot_confusion_matrix(best_pipeline, X_test, y_test,cmap=\"RdPu\")\n",
    "plt.show()"
   ]
  },
  {
   "cell_type": "code",
   "execution_count": 181,
   "metadata": {},
   "outputs": [],
   "source": [
    "# building pipeline\n",
    "pipe_et = Pipeline([('scl', StandardScaler()),\n",
    "                    ('clf', ExtraTreesClassifier(random_state=42))])\n",
    "\n",
    "# setting params for gridsearch\n",
    "grid_params_et = [{'clf__criterion': ['gini', 'entropy'],\n",
    "                   'clf__min_samples_leaf': param_range,\n",
    "                   'clf__max_depth': param_range,\n",
    "                   'clf__min_samples_split': param_range[1:]}]\n",
    "\n",
    "# defining gridsearch\n",
    "gs_et = GridSearchCV(estimator=pipe_et,\n",
    "                     param_grid=grid_params_et,\n",
    "                     scoring='recall',\n",
    "                     cv=10, \n",
    "                     n_jobs=jobs)"
   ]
  },
  {
   "cell_type": "code",
   "execution_count": 182,
   "metadata": {
    "scrolled": true
   },
   "outputs": [
    {
     "name": "stdout",
     "output_type": "stream",
     "text": [
      "Best params: {'clf__criterion': 'entropy', 'clf__max_depth': 10, 'clf__min_samples_leaf': 1, 'clf__min_samples_split': 2}\n",
      "Best training recall: 0.790\n",
      "Test set recall score for best params: 0.803 \n"
     ]
    }
   ],
   "source": [
    "find_best_recall(gs_et)"
   ]
  },
  {
   "cell_type": "code",
   "execution_count": 172,
   "metadata": {
    "scrolled": true
   },
   "outputs": [
    {
     "name": "stdout",
     "output_type": "stream",
     "text": [
      "Peetorming model optimizations...\n",
      "\n",
      "Estimator: Extra Trees\n",
      "Best params: {'clf__criterion': 'entropy', 'clf__max_depth': 10, 'clf__min_samples_leaf': 1, 'clf__min_samples_split': 2}\n",
      "Best training recall: 0.790\n",
      "Test set recall score for best params: 0.803 \n",
      "\n",
      "Estimator: XGBoost\n"
     ]
    },
    {
     "name": "stderr",
     "output_type": "stream",
     "text": [
      "/Users/dtunnicliffe/anaconda3/envs/learn-env/lib/python3.6/site-packages/sklearn/model_selection/_search.py:921: UserWarning: One or more of the test scores are non-finite: [nan nan nan ... nan nan nan]\n",
      "  category=UserWarning\n",
      "/Users/dtunnicliffe/anaconda3/envs/learn-env/lib/python3.6/site-packages/xgboost/sklearn.py:888: UserWarning: The use of label encoder in XGBClassifier is deprecated and will be removed in a future release. To remove this warning, do the following: 1) Pass option use_label_encoder=False when constructing XGBClassifier object; and 2) Encode your labels (y) as integers starting with 0, i.e. 0, 1, 2, ..., [num_class - 1].\n",
      "  warnings.warn(label_encoder_deprecation_msg, UserWarning)\n"
     ]
    },
    {
     "ename": "AttributeError",
     "evalue": "dlsym(0x7fcad81fb750, XGDMatrixSetDenseInfo): symbol not found",
     "output_type": "error",
     "traceback": [
      "\u001b[0;31m---------------------------------------------------------------------------\u001b[0m",
      "\u001b[0;31mAttributeError\u001b[0m                            Traceback (most recent call last)",
      "\u001b[0;32m<ipython-input-172-81e9962b5c4e>\u001b[0m in \u001b[0;36m<module>\u001b[0;34m()\u001b[0m\n\u001b[1;32m     56\u001b[0m     \u001b[0mprint\u001b[0m\u001b[0;34m(\u001b[0m\u001b[0;34m'\\nEstimator: %s'\u001b[0m \u001b[0;34m%\u001b[0m \u001b[0mgrid_dict\u001b[0m\u001b[0;34m[\u001b[0m\u001b[0midx\u001b[0m\u001b[0;34m]\u001b[0m\u001b[0;34m)\u001b[0m\u001b[0;34m\u001b[0m\u001b[0;34m\u001b[0m\u001b[0m\n\u001b[1;32m     57\u001b[0m     \u001b[0;31m# Fit grid search\u001b[0m\u001b[0;34m\u001b[0m\u001b[0;34m\u001b[0m\u001b[0;34m\u001b[0m\u001b[0m\n\u001b[0;32m---> 58\u001b[0;31m     \u001b[0mgs\u001b[0m\u001b[0;34m.\u001b[0m\u001b[0mfit\u001b[0m\u001b[0;34m(\u001b[0m\u001b[0mX_train\u001b[0m\u001b[0;34m,\u001b[0m \u001b[0my_train\u001b[0m\u001b[0;34m)\u001b[0m\u001b[0;34m\u001b[0m\u001b[0;34m\u001b[0m\u001b[0m\n\u001b[0m\u001b[1;32m     59\u001b[0m     \u001b[0;31m# Best params\u001b[0m\u001b[0;34m\u001b[0m\u001b[0;34m\u001b[0m\u001b[0;34m\u001b[0m\u001b[0m\n\u001b[1;32m     60\u001b[0m     \u001b[0mprint\u001b[0m\u001b[0;34m(\u001b[0m\u001b[0;34m'Best params: %s'\u001b[0m \u001b[0;34m%\u001b[0m \u001b[0mgs\u001b[0m\u001b[0;34m.\u001b[0m\u001b[0mbest_params_\u001b[0m\u001b[0;34m)\u001b[0m\u001b[0;34m\u001b[0m\u001b[0;34m\u001b[0m\u001b[0m\n",
      "\u001b[0;32m/Users/dtunnicliffe/anaconda3/envs/learn-env/lib/python3.6/site-packages/sklearn/utils/validation.py\u001b[0m in \u001b[0;36minner_f\u001b[0;34m(*args, **kwargs)\u001b[0m\n\u001b[1;32m     61\u001b[0m             \u001b[0mextra_args\u001b[0m \u001b[0;34m=\u001b[0m \u001b[0mlen\u001b[0m\u001b[0;34m(\u001b[0m\u001b[0margs\u001b[0m\u001b[0;34m)\u001b[0m \u001b[0;34m-\u001b[0m \u001b[0mlen\u001b[0m\u001b[0;34m(\u001b[0m\u001b[0mall_args\u001b[0m\u001b[0;34m)\u001b[0m\u001b[0;34m\u001b[0m\u001b[0;34m\u001b[0m\u001b[0m\n\u001b[1;32m     62\u001b[0m             \u001b[0;32mif\u001b[0m \u001b[0mextra_args\u001b[0m \u001b[0;34m<=\u001b[0m \u001b[0;36m0\u001b[0m\u001b[0;34m:\u001b[0m\u001b[0;34m\u001b[0m\u001b[0;34m\u001b[0m\u001b[0m\n\u001b[0;32m---> 63\u001b[0;31m                 \u001b[0;32mreturn\u001b[0m \u001b[0mf\u001b[0m\u001b[0;34m(\u001b[0m\u001b[0;34m*\u001b[0m\u001b[0margs\u001b[0m\u001b[0;34m,\u001b[0m \u001b[0;34m**\u001b[0m\u001b[0mkwargs\u001b[0m\u001b[0;34m)\u001b[0m\u001b[0;34m\u001b[0m\u001b[0;34m\u001b[0m\u001b[0m\n\u001b[0m\u001b[1;32m     64\u001b[0m \u001b[0;34m\u001b[0m\u001b[0m\n\u001b[1;32m     65\u001b[0m             \u001b[0;31m# extra_args > 0\u001b[0m\u001b[0;34m\u001b[0m\u001b[0;34m\u001b[0m\u001b[0;34m\u001b[0m\u001b[0m\n",
      "\u001b[0;32m/Users/dtunnicliffe/anaconda3/envs/learn-env/lib/python3.6/site-packages/sklearn/model_selection/_search.py\u001b[0m in \u001b[0;36mfit\u001b[0;34m(self, X, y, groups, **fit_params)\u001b[0m\n\u001b[1;32m    878\u001b[0m             \u001b[0mrefit_start_time\u001b[0m \u001b[0;34m=\u001b[0m \u001b[0mtime\u001b[0m\u001b[0;34m.\u001b[0m\u001b[0mtime\u001b[0m\u001b[0;34m(\u001b[0m\u001b[0;34m)\u001b[0m\u001b[0;34m\u001b[0m\u001b[0;34m\u001b[0m\u001b[0m\n\u001b[1;32m    879\u001b[0m             \u001b[0;32mif\u001b[0m \u001b[0my\u001b[0m \u001b[0;32mis\u001b[0m \u001b[0;32mnot\u001b[0m \u001b[0;32mNone\u001b[0m\u001b[0;34m:\u001b[0m\u001b[0;34m\u001b[0m\u001b[0;34m\u001b[0m\u001b[0m\n\u001b[0;32m--> 880\u001b[0;31m                 \u001b[0mself\u001b[0m\u001b[0;34m.\u001b[0m\u001b[0mbest_estimator_\u001b[0m\u001b[0;34m.\u001b[0m\u001b[0mfit\u001b[0m\u001b[0;34m(\u001b[0m\u001b[0mX\u001b[0m\u001b[0;34m,\u001b[0m \u001b[0my\u001b[0m\u001b[0;34m,\u001b[0m \u001b[0;34m**\u001b[0m\u001b[0mfit_params\u001b[0m\u001b[0;34m)\u001b[0m\u001b[0;34m\u001b[0m\u001b[0;34m\u001b[0m\u001b[0m\n\u001b[0m\u001b[1;32m    881\u001b[0m             \u001b[0;32melse\u001b[0m\u001b[0;34m:\u001b[0m\u001b[0;34m\u001b[0m\u001b[0;34m\u001b[0m\u001b[0m\n\u001b[1;32m    882\u001b[0m                 \u001b[0mself\u001b[0m\u001b[0;34m.\u001b[0m\u001b[0mbest_estimator_\u001b[0m\u001b[0;34m.\u001b[0m\u001b[0mfit\u001b[0m\u001b[0;34m(\u001b[0m\u001b[0mX\u001b[0m\u001b[0;34m,\u001b[0m \u001b[0;34m**\u001b[0m\u001b[0mfit_params\u001b[0m\u001b[0;34m)\u001b[0m\u001b[0;34m\u001b[0m\u001b[0;34m\u001b[0m\u001b[0m\n",
      "\u001b[0;32m/Users/dtunnicliffe/anaconda3/envs/learn-env/lib/python3.6/site-packages/sklearn/pipeline.py\u001b[0m in \u001b[0;36mfit\u001b[0;34m(self, X, y, **fit_params)\u001b[0m\n\u001b[1;32m    344\u001b[0m             \u001b[0;32mif\u001b[0m \u001b[0mself\u001b[0m\u001b[0;34m.\u001b[0m\u001b[0m_final_estimator\u001b[0m \u001b[0;34m!=\u001b[0m \u001b[0;34m'passthrough'\u001b[0m\u001b[0;34m:\u001b[0m\u001b[0;34m\u001b[0m\u001b[0;34m\u001b[0m\u001b[0m\n\u001b[1;32m    345\u001b[0m                 \u001b[0mfit_params_last_step\u001b[0m \u001b[0;34m=\u001b[0m \u001b[0mfit_params_steps\u001b[0m\u001b[0;34m[\u001b[0m\u001b[0mself\u001b[0m\u001b[0;34m.\u001b[0m\u001b[0msteps\u001b[0m\u001b[0;34m[\u001b[0m\u001b[0;34m-\u001b[0m\u001b[0;36m1\u001b[0m\u001b[0;34m]\u001b[0m\u001b[0;34m[\u001b[0m\u001b[0;36m0\u001b[0m\u001b[0;34m]\u001b[0m\u001b[0;34m]\u001b[0m\u001b[0;34m\u001b[0m\u001b[0;34m\u001b[0m\u001b[0m\n\u001b[0;32m--> 346\u001b[0;31m                 \u001b[0mself\u001b[0m\u001b[0;34m.\u001b[0m\u001b[0m_final_estimator\u001b[0m\u001b[0;34m.\u001b[0m\u001b[0mfit\u001b[0m\u001b[0;34m(\u001b[0m\u001b[0mXt\u001b[0m\u001b[0;34m,\u001b[0m \u001b[0my\u001b[0m\u001b[0;34m,\u001b[0m \u001b[0;34m**\u001b[0m\u001b[0mfit_params_last_step\u001b[0m\u001b[0;34m)\u001b[0m\u001b[0;34m\u001b[0m\u001b[0;34m\u001b[0m\u001b[0m\n\u001b[0m\u001b[1;32m    347\u001b[0m \u001b[0;34m\u001b[0m\u001b[0m\n\u001b[1;32m    348\u001b[0m         \u001b[0;32mreturn\u001b[0m \u001b[0mself\u001b[0m\u001b[0;34m\u001b[0m\u001b[0;34m\u001b[0m\u001b[0m\n",
      "\u001b[0;32m/Users/dtunnicliffe/anaconda3/envs/learn-env/lib/python3.6/site-packages/xgboost/core.py\u001b[0m in \u001b[0;36minner_f\u001b[0;34m(*args, **kwargs)\u001b[0m\n\u001b[1;32m    420\u001b[0m         \u001b[0;32mfor\u001b[0m \u001b[0mk\u001b[0m\u001b[0;34m,\u001b[0m \u001b[0marg\u001b[0m \u001b[0;32min\u001b[0m \u001b[0mzip\u001b[0m\u001b[0;34m(\u001b[0m\u001b[0msig\u001b[0m\u001b[0;34m.\u001b[0m\u001b[0mparameters\u001b[0m\u001b[0;34m,\u001b[0m \u001b[0margs\u001b[0m\u001b[0;34m)\u001b[0m\u001b[0;34m:\u001b[0m\u001b[0;34m\u001b[0m\u001b[0;34m\u001b[0m\u001b[0m\n\u001b[1;32m    421\u001b[0m             \u001b[0mkwargs\u001b[0m\u001b[0;34m[\u001b[0m\u001b[0mk\u001b[0m\u001b[0;34m]\u001b[0m \u001b[0;34m=\u001b[0m \u001b[0marg\u001b[0m\u001b[0;34m\u001b[0m\u001b[0;34m\u001b[0m\u001b[0m\n\u001b[0;32m--> 422\u001b[0;31m         \u001b[0;32mreturn\u001b[0m \u001b[0mf\u001b[0m\u001b[0;34m(\u001b[0m\u001b[0;34m**\u001b[0m\u001b[0mkwargs\u001b[0m\u001b[0;34m)\u001b[0m\u001b[0;34m\u001b[0m\u001b[0;34m\u001b[0m\u001b[0m\n\u001b[0m\u001b[1;32m    423\u001b[0m \u001b[0;34m\u001b[0m\u001b[0m\n\u001b[1;32m    424\u001b[0m     \u001b[0;32mreturn\u001b[0m \u001b[0minner_f\u001b[0m\u001b[0;34m\u001b[0m\u001b[0;34m\u001b[0m\u001b[0m\n",
      "\u001b[0;32m/Users/dtunnicliffe/anaconda3/envs/learn-env/lib/python3.6/site-packages/xgboost/sklearn.py\u001b[0m in \u001b[0;36mfit\u001b[0;34m(self, X, y, sample_weight, base_margin, eval_set, eval_metric, early_stopping_rounds, verbose, xgb_model, sample_weight_eval_set, feature_weights, callbacks)\u001b[0m\n\u001b[1;32m    905\u001b[0m             \u001b[0mfeature_weights\u001b[0m\u001b[0;34m=\u001b[0m\u001b[0mfeature_weights\u001b[0m\u001b[0;34m,\u001b[0m\u001b[0;34m\u001b[0m\u001b[0;34m\u001b[0m\u001b[0m\n\u001b[1;32m    906\u001b[0m             \u001b[0meval_set\u001b[0m\u001b[0;34m=\u001b[0m\u001b[0meval_set\u001b[0m\u001b[0;34m,\u001b[0m \u001b[0msample_weight_eval_set\u001b[0m\u001b[0;34m=\u001b[0m\u001b[0msample_weight_eval_set\u001b[0m\u001b[0;34m,\u001b[0m\u001b[0;34m\u001b[0m\u001b[0;34m\u001b[0m\u001b[0m\n\u001b[0;32m--> 907\u001b[0;31m             eval_group=None, label_transform=label_transform)\n\u001b[0m\u001b[1;32m    908\u001b[0m \u001b[0;34m\u001b[0m\u001b[0m\n\u001b[1;32m    909\u001b[0m         self._Booster = train(xgb_options, train_dmatrix,\n",
      "\u001b[0;32m/Users/dtunnicliffe/anaconda3/envs/learn-env/lib/python3.6/site-packages/xgboost/sklearn.py\u001b[0m in \u001b[0;36m_wrap_evaluation_matrices\u001b[0;34m(self, X, y, group, sample_weight, base_margin, feature_weights, eval_set, sample_weight_eval_set, eval_group, label_transform)\u001b[0m\n\u001b[1;32m    265\u001b[0m         train_dmatrix = DMatrix(data=X, label=y, weight=sample_weight,\n\u001b[1;32m    266\u001b[0m                                 \u001b[0mbase_margin\u001b[0m\u001b[0;34m=\u001b[0m\u001b[0mbase_margin\u001b[0m\u001b[0;34m,\u001b[0m\u001b[0;34m\u001b[0m\u001b[0;34m\u001b[0m\u001b[0m\n\u001b[0;32m--> 267\u001b[0;31m                                 missing=self.missing, nthread=self.n_jobs)\n\u001b[0m\u001b[1;32m    268\u001b[0m         \u001b[0mtrain_dmatrix\u001b[0m\u001b[0;34m.\u001b[0m\u001b[0mset_info\u001b[0m\u001b[0;34m(\u001b[0m\u001b[0mfeature_weights\u001b[0m\u001b[0;34m=\u001b[0m\u001b[0mfeature_weights\u001b[0m\u001b[0;34m,\u001b[0m \u001b[0mgroup\u001b[0m\u001b[0;34m=\u001b[0m\u001b[0mgroup\u001b[0m\u001b[0;34m)\u001b[0m\u001b[0;34m\u001b[0m\u001b[0;34m\u001b[0m\u001b[0m\n\u001b[1;32m    269\u001b[0m \u001b[0;34m\u001b[0m\u001b[0m\n",
      "\u001b[0;32m/Users/dtunnicliffe/anaconda3/envs/learn-env/lib/python3.6/site-packages/xgboost/core.py\u001b[0m in \u001b[0;36m__init__\u001b[0;34m(self, data, label, weight, base_margin, missing, silent, feature_names, feature_types, nthread, enable_categorical)\u001b[0m\n\u001b[1;32m    507\u001b[0m         \u001b[0mself\u001b[0m\u001b[0;34m.\u001b[0m\u001b[0mhandle\u001b[0m \u001b[0;34m=\u001b[0m \u001b[0mhandle\u001b[0m\u001b[0;34m\u001b[0m\u001b[0;34m\u001b[0m\u001b[0m\n\u001b[1;32m    508\u001b[0m \u001b[0;34m\u001b[0m\u001b[0m\n\u001b[0;32m--> 509\u001b[0;31m         \u001b[0mself\u001b[0m\u001b[0;34m.\u001b[0m\u001b[0mset_info\u001b[0m\u001b[0;34m(\u001b[0m\u001b[0mlabel\u001b[0m\u001b[0;34m=\u001b[0m\u001b[0mlabel\u001b[0m\u001b[0;34m,\u001b[0m \u001b[0mweight\u001b[0m\u001b[0;34m=\u001b[0m\u001b[0mweight\u001b[0m\u001b[0;34m,\u001b[0m \u001b[0mbase_margin\u001b[0m\u001b[0;34m=\u001b[0m\u001b[0mbase_margin\u001b[0m\u001b[0;34m)\u001b[0m\u001b[0;34m\u001b[0m\u001b[0;34m\u001b[0m\u001b[0m\n\u001b[0m\u001b[1;32m    510\u001b[0m \u001b[0;34m\u001b[0m\u001b[0m\n\u001b[1;32m    511\u001b[0m         \u001b[0mself\u001b[0m\u001b[0;34m.\u001b[0m\u001b[0mfeature_names\u001b[0m \u001b[0;34m=\u001b[0m \u001b[0mfeature_names\u001b[0m\u001b[0;34m\u001b[0m\u001b[0;34m\u001b[0m\u001b[0m\n",
      "\u001b[0;32m/Users/dtunnicliffe/anaconda3/envs/learn-env/lib/python3.6/site-packages/xgboost/core.py\u001b[0m in \u001b[0;36minner_f\u001b[0;34m(*args, **kwargs)\u001b[0m\n\u001b[1;32m    420\u001b[0m         \u001b[0;32mfor\u001b[0m \u001b[0mk\u001b[0m\u001b[0;34m,\u001b[0m \u001b[0marg\u001b[0m \u001b[0;32min\u001b[0m \u001b[0mzip\u001b[0m\u001b[0;34m(\u001b[0m\u001b[0msig\u001b[0m\u001b[0;34m.\u001b[0m\u001b[0mparameters\u001b[0m\u001b[0;34m,\u001b[0m \u001b[0margs\u001b[0m\u001b[0;34m)\u001b[0m\u001b[0;34m:\u001b[0m\u001b[0;34m\u001b[0m\u001b[0;34m\u001b[0m\u001b[0m\n\u001b[1;32m    421\u001b[0m             \u001b[0mkwargs\u001b[0m\u001b[0;34m[\u001b[0m\u001b[0mk\u001b[0m\u001b[0;34m]\u001b[0m \u001b[0;34m=\u001b[0m \u001b[0marg\u001b[0m\u001b[0;34m\u001b[0m\u001b[0;34m\u001b[0m\u001b[0m\n\u001b[0;32m--> 422\u001b[0;31m         \u001b[0;32mreturn\u001b[0m \u001b[0mf\u001b[0m\u001b[0;34m(\u001b[0m\u001b[0;34m**\u001b[0m\u001b[0mkwargs\u001b[0m\u001b[0;34m)\u001b[0m\u001b[0;34m\u001b[0m\u001b[0;34m\u001b[0m\u001b[0m\n\u001b[0m\u001b[1;32m    423\u001b[0m \u001b[0;34m\u001b[0m\u001b[0m\n\u001b[1;32m    424\u001b[0m     \u001b[0;32mreturn\u001b[0m \u001b[0minner_f\u001b[0m\u001b[0;34m\u001b[0m\u001b[0;34m\u001b[0m\u001b[0m\n",
      "\u001b[0;32m/Users/dtunnicliffe/anaconda3/envs/learn-env/lib/python3.6/site-packages/xgboost/core.py\u001b[0m in \u001b[0;36mset_info\u001b[0;34m(self, label, weight, base_margin, group, label_lower_bound, label_upper_bound, feature_names, feature_types, feature_weights)\u001b[0m\n\u001b[1;32m    528\u001b[0m         \u001b[0;34m'''Set meta info for DMatrix.'''\u001b[0m\u001b[0;34m\u001b[0m\u001b[0;34m\u001b[0m\u001b[0m\n\u001b[1;32m    529\u001b[0m         \u001b[0;32mif\u001b[0m \u001b[0mlabel\u001b[0m \u001b[0;32mis\u001b[0m \u001b[0;32mnot\u001b[0m \u001b[0;32mNone\u001b[0m\u001b[0;34m:\u001b[0m\u001b[0;34m\u001b[0m\u001b[0;34m\u001b[0m\u001b[0m\n\u001b[0;32m--> 530\u001b[0;31m             \u001b[0mself\u001b[0m\u001b[0;34m.\u001b[0m\u001b[0mset_label\u001b[0m\u001b[0;34m(\u001b[0m\u001b[0mlabel\u001b[0m\u001b[0;34m)\u001b[0m\u001b[0;34m\u001b[0m\u001b[0;34m\u001b[0m\u001b[0m\n\u001b[0m\u001b[1;32m    531\u001b[0m         \u001b[0;32mif\u001b[0m \u001b[0mweight\u001b[0m \u001b[0;32mis\u001b[0m \u001b[0;32mnot\u001b[0m \u001b[0;32mNone\u001b[0m\u001b[0;34m:\u001b[0m\u001b[0;34m\u001b[0m\u001b[0;34m\u001b[0m\u001b[0m\n\u001b[1;32m    532\u001b[0m             \u001b[0mself\u001b[0m\u001b[0;34m.\u001b[0m\u001b[0mset_weight\u001b[0m\u001b[0;34m(\u001b[0m\u001b[0mweight\u001b[0m\u001b[0;34m)\u001b[0m\u001b[0;34m\u001b[0m\u001b[0;34m\u001b[0m\u001b[0m\n",
      "\u001b[0;32m/Users/dtunnicliffe/anaconda3/envs/learn-env/lib/python3.6/site-packages/xgboost/core.py\u001b[0m in \u001b[0;36mset_label\u001b[0;34m(self, label)\u001b[0m\n\u001b[1;32m    657\u001b[0m         \"\"\"\n\u001b[1;32m    658\u001b[0m         \u001b[0;32mfrom\u001b[0m \u001b[0;34m.\u001b[0m\u001b[0mdata\u001b[0m \u001b[0;32mimport\u001b[0m \u001b[0mdispatch_meta_backend\u001b[0m\u001b[0;34m\u001b[0m\u001b[0;34m\u001b[0m\u001b[0m\n\u001b[0;32m--> 659\u001b[0;31m         \u001b[0mdispatch_meta_backend\u001b[0m\u001b[0;34m(\u001b[0m\u001b[0mself\u001b[0m\u001b[0;34m,\u001b[0m \u001b[0mlabel\u001b[0m\u001b[0;34m,\u001b[0m \u001b[0;34m'label'\u001b[0m\u001b[0;34m,\u001b[0m \u001b[0;34m'float'\u001b[0m\u001b[0;34m)\u001b[0m\u001b[0;34m\u001b[0m\u001b[0;34m\u001b[0m\u001b[0m\n\u001b[0m\u001b[1;32m    660\u001b[0m \u001b[0;34m\u001b[0m\u001b[0m\n\u001b[1;32m    661\u001b[0m     \u001b[0;32mdef\u001b[0m \u001b[0mset_weight\u001b[0m\u001b[0;34m(\u001b[0m\u001b[0mself\u001b[0m\u001b[0;34m,\u001b[0m \u001b[0mweight\u001b[0m\u001b[0;34m)\u001b[0m\u001b[0;34m:\u001b[0m\u001b[0;34m\u001b[0m\u001b[0;34m\u001b[0m\u001b[0m\n",
      "\u001b[0;32m/Users/dtunnicliffe/anaconda3/envs/learn-env/lib/python3.6/site-packages/xgboost/data.py\u001b[0m in \u001b[0;36mdispatch_meta_backend\u001b[0;34m(matrix, data, name, dtype)\u001b[0m\n\u001b[1;32m    664\u001b[0m         \u001b[0;32mreturn\u001b[0m\u001b[0;34m\u001b[0m\u001b[0;34m\u001b[0m\u001b[0m\n\u001b[1;32m    665\u001b[0m     \u001b[0;32mif\u001b[0m \u001b[0m_is_numpy_array\u001b[0m\u001b[0;34m(\u001b[0m\u001b[0mdata\u001b[0m\u001b[0;34m)\u001b[0m\u001b[0;34m:\u001b[0m\u001b[0;34m\u001b[0m\u001b[0;34m\u001b[0m\u001b[0m\n\u001b[0;32m--> 666\u001b[0;31m         \u001b[0m_meta_from_numpy\u001b[0m\u001b[0;34m(\u001b[0m\u001b[0mdata\u001b[0m\u001b[0;34m,\u001b[0m \u001b[0mname\u001b[0m\u001b[0;34m,\u001b[0m \u001b[0mdtype\u001b[0m\u001b[0;34m,\u001b[0m \u001b[0mhandle\u001b[0m\u001b[0;34m)\u001b[0m\u001b[0;34m\u001b[0m\u001b[0;34m\u001b[0m\u001b[0m\n\u001b[0m\u001b[1;32m    667\u001b[0m         \u001b[0;32mreturn\u001b[0m\u001b[0;34m\u001b[0m\u001b[0;34m\u001b[0m\u001b[0m\n\u001b[1;32m    668\u001b[0m     \u001b[0;32mif\u001b[0m \u001b[0m_is_pandas_df\u001b[0m\u001b[0;34m(\u001b[0m\u001b[0mdata\u001b[0m\u001b[0;34m)\u001b[0m\u001b[0;34m:\u001b[0m\u001b[0;34m\u001b[0m\u001b[0;34m\u001b[0m\u001b[0m\n",
      "\u001b[0;32m/Users/dtunnicliffe/anaconda3/envs/learn-env/lib/python3.6/site-packages/xgboost/data.py\u001b[0m in \u001b[0;36m_meta_from_numpy\u001b[0;34m(data, field, dtype, handle)\u001b[0m\n\u001b[1;32m    598\u001b[0m     \u001b[0mptr\u001b[0m \u001b[0;34m=\u001b[0m \u001b[0minterface\u001b[0m\u001b[0;34m[\u001b[0m\u001b[0;34m'data'\u001b[0m\u001b[0;34m]\u001b[0m\u001b[0;34m[\u001b[0m\u001b[0;36m0\u001b[0m\u001b[0;34m]\u001b[0m\u001b[0;34m\u001b[0m\u001b[0;34m\u001b[0m\u001b[0m\n\u001b[1;32m    599\u001b[0m     \u001b[0mptr\u001b[0m \u001b[0;34m=\u001b[0m \u001b[0mctypes\u001b[0m\u001b[0;34m.\u001b[0m\u001b[0mc_void_p\u001b[0m\u001b[0;34m(\u001b[0m\u001b[0mptr\u001b[0m\u001b[0;34m)\u001b[0m\u001b[0;34m\u001b[0m\u001b[0;34m\u001b[0m\u001b[0m\n\u001b[0;32m--> 600\u001b[0;31m     _check_call(_LIB.XGDMatrixSetDenseInfo(\n\u001b[0m\u001b[1;32m    601\u001b[0m         \u001b[0mhandle\u001b[0m\u001b[0;34m,\u001b[0m\u001b[0;34m\u001b[0m\u001b[0;34m\u001b[0m\u001b[0m\n\u001b[1;32m    602\u001b[0m         \u001b[0mc_str\u001b[0m\u001b[0;34m(\u001b[0m\u001b[0mfield\u001b[0m\u001b[0;34m)\u001b[0m\u001b[0;34m,\u001b[0m\u001b[0;34m\u001b[0m\u001b[0;34m\u001b[0m\u001b[0m\n",
      "\u001b[0;32m/Users/dtunnicliffe/anaconda3/envs/learn-env/lib/python3.6/ctypes/__init__.py\u001b[0m in \u001b[0;36m__getattr__\u001b[0;34m(self, name)\u001b[0m\n\u001b[1;32m    359\u001b[0m         \u001b[0;32mif\u001b[0m \u001b[0mname\u001b[0m\u001b[0;34m.\u001b[0m\u001b[0mstartswith\u001b[0m\u001b[0;34m(\u001b[0m\u001b[0;34m'__'\u001b[0m\u001b[0;34m)\u001b[0m \u001b[0;32mand\u001b[0m \u001b[0mname\u001b[0m\u001b[0;34m.\u001b[0m\u001b[0mendswith\u001b[0m\u001b[0;34m(\u001b[0m\u001b[0;34m'__'\u001b[0m\u001b[0;34m)\u001b[0m\u001b[0;34m:\u001b[0m\u001b[0;34m\u001b[0m\u001b[0;34m\u001b[0m\u001b[0m\n\u001b[1;32m    360\u001b[0m             \u001b[0;32mraise\u001b[0m \u001b[0mAttributeError\u001b[0m\u001b[0;34m(\u001b[0m\u001b[0mname\u001b[0m\u001b[0;34m)\u001b[0m\u001b[0;34m\u001b[0m\u001b[0;34m\u001b[0m\u001b[0m\n\u001b[0;32m--> 361\u001b[0;31m         \u001b[0mfunc\u001b[0m \u001b[0;34m=\u001b[0m \u001b[0mself\u001b[0m\u001b[0;34m.\u001b[0m\u001b[0m__getitem__\u001b[0m\u001b[0;34m(\u001b[0m\u001b[0mname\u001b[0m\u001b[0;34m)\u001b[0m\u001b[0;34m\u001b[0m\u001b[0;34m\u001b[0m\u001b[0m\n\u001b[0m\u001b[1;32m    362\u001b[0m         \u001b[0msetattr\u001b[0m\u001b[0;34m(\u001b[0m\u001b[0mself\u001b[0m\u001b[0;34m,\u001b[0m \u001b[0mname\u001b[0m\u001b[0;34m,\u001b[0m \u001b[0mfunc\u001b[0m\u001b[0;34m)\u001b[0m\u001b[0;34m\u001b[0m\u001b[0;34m\u001b[0m\u001b[0m\n\u001b[1;32m    363\u001b[0m         \u001b[0;32mreturn\u001b[0m \u001b[0mfunc\u001b[0m\u001b[0;34m\u001b[0m\u001b[0;34m\u001b[0m\u001b[0m\n",
      "\u001b[0;32m/Users/dtunnicliffe/anaconda3/envs/learn-env/lib/python3.6/ctypes/__init__.py\u001b[0m in \u001b[0;36m__getitem__\u001b[0;34m(self, name_or_ordinal)\u001b[0m\n\u001b[1;32m    364\u001b[0m \u001b[0;34m\u001b[0m\u001b[0m\n\u001b[1;32m    365\u001b[0m     \u001b[0;32mdef\u001b[0m \u001b[0m__getitem__\u001b[0m\u001b[0;34m(\u001b[0m\u001b[0mself\u001b[0m\u001b[0;34m,\u001b[0m \u001b[0mname_or_ordinal\u001b[0m\u001b[0;34m)\u001b[0m\u001b[0;34m:\u001b[0m\u001b[0;34m\u001b[0m\u001b[0;34m\u001b[0m\u001b[0m\n\u001b[0;32m--> 366\u001b[0;31m         \u001b[0mfunc\u001b[0m \u001b[0;34m=\u001b[0m \u001b[0mself\u001b[0m\u001b[0;34m.\u001b[0m\u001b[0m_FuncPtr\u001b[0m\u001b[0;34m(\u001b[0m\u001b[0;34m(\u001b[0m\u001b[0mname_or_ordinal\u001b[0m\u001b[0;34m,\u001b[0m \u001b[0mself\u001b[0m\u001b[0;34m)\u001b[0m\u001b[0;34m)\u001b[0m\u001b[0;34m\u001b[0m\u001b[0;34m\u001b[0m\u001b[0m\n\u001b[0m\u001b[1;32m    367\u001b[0m         \u001b[0;32mif\u001b[0m \u001b[0;32mnot\u001b[0m \u001b[0misinstance\u001b[0m\u001b[0;34m(\u001b[0m\u001b[0mname_or_ordinal\u001b[0m\u001b[0;34m,\u001b[0m \u001b[0mint\u001b[0m\u001b[0;34m)\u001b[0m\u001b[0;34m:\u001b[0m\u001b[0;34m\u001b[0m\u001b[0;34m\u001b[0m\u001b[0m\n\u001b[1;32m    368\u001b[0m             \u001b[0mfunc\u001b[0m\u001b[0;34m.\u001b[0m\u001b[0m__name__\u001b[0m \u001b[0;34m=\u001b[0m \u001b[0mname_or_ordinal\u001b[0m\u001b[0;34m\u001b[0m\u001b[0;34m\u001b[0m\u001b[0m\n",
      "\u001b[0;31mAttributeError\u001b[0m: dlsym(0x7fcad81fb750, XGDMatrixSetDenseInfo): symbol not found"
     ]
    }
   ],
   "source": [
    "# building pipeline\n",
    "pipe_et = Pipeline([('scl', StandardScaler()),\n",
    "                    ('clf', ExtraTreesClassifier(random_state=42))])\n",
    "\n",
    "pipe_xg = Pipeline([('scl', StandardScaler()),\n",
    "                     ('clf', XGBClassifier(random_state=42))])\n",
    "\n",
    "\n",
    "# setting grid search parameters\n",
    "param_range = [1, 2, 3, 4, 5, 6, 7, 8, 9, 10]\n",
    "param_range_small = [1.0, 0.5, 0.1]\n",
    " \n",
    "\n",
    "grid_params_et = [{'clf__criterion': ['gini', 'entropy'],\n",
    "                   'clf__min_samples_leaf': param_range,\n",
    "                   'clf__max_depth': param_range,\n",
    "                   'clf__min_samples_split': param_range[1:]}]\n",
    "\n",
    "grid_params_xg = [{'clf__eta': param_range_small,\n",
    "                   'clf__gamma': param_range,\n",
    "                   'clf__max_depth': param_range,\n",
    "                   'clf__min_child_weight': param_range,\n",
    "                   'clf__max_delta_step': param_range,\n",
    "                   'clf__subsample': param_range_small}]\n",
    "\n",
    "\n",
    "# setting grid searches\n",
    "jobs = -1\n",
    "\n",
    "\n",
    "gs_et = GridSearchCV(estimator=pipe_et,\n",
    "                     param_grid=grid_params_et,\n",
    "                     scoring='recall',\n",
    "                     cv=10, \n",
    "                     n_jobs=jobs)\n",
    "\n",
    "gs_xg = GridSearchCV(estimator=pipe_xg,\n",
    "                      param_grid=grid_params_xg,\n",
    "                      scoring='recall',\n",
    "                      cv=10,\n",
    "                      n_jobs=jobs)\n",
    "\n",
    "# list of pipelines for ease of iteration\n",
    "grids = [gs_et, gs_xg]\n",
    "\n",
    "# dictionary of pipelines and classifier types for ease of reference\n",
    "grid_dict = {0: 'Extra Trees', \n",
    "             1: 'XGBoost'}\n",
    "\n",
    "# fitting the grid search objects\n",
    "print('Performing model optimizations...')\n",
    "best_recall = 0.0\n",
    "best_clf = 0\n",
    "best_gs = ''\n",
    "for idx, gs in enumerate(grids):\n",
    "    print('\\nEstimator: %s' % grid_dict[idx])\n",
    "    # Fit grid search\n",
    "    gs.fit(X_train, y_train)\n",
    "    # Best params\n",
    "    print('Best params: %s' % gs.best_params_)\n",
    "    # Best training data recall\n",
    "    print('Best training recall: %.3f' % gs.best_score_)\n",
    "    # Predict on test data with best params\n",
    "    y_pred = gs.predict(X_test)\n",
    "    # Test data recall of model with best params\n",
    "    print('Test set recall score for best params: %.3f ' % recall_score(y_test, y_pred))\n",
    "    # Track best (highest test recall) model\n",
    "    if recall_score(y_test, y_pred) > best_recall:\n",
    "        best_recall = recall_score(y_test, y_pred)\n",
    "        best_gs = gs\n",
    "        best_clf = idx\n",
    "print('\\nClassifier with best test set recall: %s' % grid_dict[best_clf])"
   ]
  }
 ],
 "metadata": {
  "kernelspec": {
   "display_name": "learn-env",
   "language": "python",
   "name": "learn-env"
  },
  "language_info": {
   "codemirror_mode": {
    "name": "ipython",
    "version": 3
   },
   "file_extension": ".py",
   "mimetype": "text/x-python",
   "name": "python",
   "nbconvert_exporter": "python",
   "pygments_lexer": "ipython3",
   "version": "3.6.9"
  }
 },
 "nbformat": 4,
 "nbformat_minor": 4
}
